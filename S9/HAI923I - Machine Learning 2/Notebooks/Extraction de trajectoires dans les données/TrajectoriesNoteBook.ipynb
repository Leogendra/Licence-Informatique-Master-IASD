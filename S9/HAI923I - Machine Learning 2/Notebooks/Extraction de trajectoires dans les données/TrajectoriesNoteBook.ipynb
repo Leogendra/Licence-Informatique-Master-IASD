{
 "cells": [
  {
   "cell_type": "markdown",
   "metadata": {},
   "source": [
    "\n",
    "**This notebook is an example of applying getmove on real trajectories.**\n"
   ]
  },
  {
   "cell_type": "markdown",
   "metadata": {},
   "source": [
    "# Installation"
   ]
  },
  {
   "cell_type": "markdown",
   "metadata": {},
   "source": [
    "The best way is to use Python3 and a virtual environment.<BR>\n",
    "Here are the main commands:"
   ]
  },
  {
   "cell_type": "raw",
   "metadata": {},
   "source": [
    "virtualenv -p python3 env\n",
    "source env/bin/activate\n",
    "pip freeze > requirements.txt\n",
    "pip install jupyter\n",
    "#useful extensions for jupyter\n",
    "pip install jupyter_contrib_nbextensions\n",
    "#Installation of extensions\n",
    "pip install jupyter_nbextensions_configurator\n",
    "jupyter-contrib-nbextension install --sys-prefix\n",
    "#Activation of extensions\n",
    "jupyter-nbextensions_configurator enable --sys-prefix"
   ]
  },
  {
   "cell_type": "markdown",
   "metadata": {},
   "source": [
    "Download and install the following files:"
   ]
  },
  {
   "cell_type": "markdown",
   "metadata": {},
   "source": [
    "GetMove is available here: https://github.com/jGetMove/jGetMove/releases <BR>\n",
    "BaseMap is available here: https://github.com/matplotlib/basemap/releases/ <BR>\n",
    "A file example \"migration_original.csv\" is available here: http://www.lirmm.fr/~poncelet/migration_original.csv <BR>\n",
    "They are Goetland trajectories between Africa and Northern Europe, which were collected between 2009 and 2015."
   ]
  },
  {
   "cell_type": "markdown",
   "metadata": {},
   "source": [
    "To install BaseMap"
   ]
  },
  {
   "cell_type": "raw",
   "metadata": {},
   "source": [
    "#Download the file from: https://github.com/matplotlib/basemap/releases/\n",
    "#unzip the file or tar -xvf *.tar\n",
    "#cd file.tar\n",
    "cd geos-3.3.3\n",
    "export GEOS_DIR=$(pwd)\n",
    "./configure --prefix=$GEOS_DIR\n",
    "make; make install\n",
    "cd ..\n",
    "python setup.py install"
   ]
  },
  {
   "cell_type": "markdown",
   "metadata": {},
   "source": [
    "To test if the installation has been well done, open a python session and run the following line:"
   ]
  },
  {
   "cell_type": "raw",
   "metadata": {},
   "source": [
    "from mpl_toolkits.basemap import Basemap\n",
    "#maybe you should have to install pyproj with\n",
    "#pip install pyproj"
   ]
  },
  {
   "cell_type": "markdown",
   "metadata": {},
   "source": [
    "To install GetMove"
   ]
  },
  {
   "cell_type": "raw",
   "metadata": {},
   "source": [
    "#Download the file from: https://github.com/jGetMove/jGetMove/releases\n",
    "cd jGetMove-2.0.1\n",
    "mkdir -p out/\n",
    "javac -extdirs lib/ -sourcepath src/ src/fr/jgetmove/jgetmove/Main.java -d out/\n",
    "jar cvfm jGetMove.jar Manifest.mf -C out/ . lib/"
   ]
  },
  {
   "cell_type": "markdown",
   "metadata": {},
   "source": [
    "GetMove considers two files as input.<BR>\n",
    "The first one is for each object the number of clusters. <BR>\n",
    "It is organized as follows:<BR>\n",
    "Example: data.dat"
   ]
  },
  {
   "cell_type": "raw",
   "metadata": {},
   "source": [
    "1 2 3\n",
    "2 3\n",
    "1 3"
   ]
  },
  {
   "cell_type": "markdown",
   "metadata": {},
   "source": [
    "It means that the first object 0 belongs to the clusters 1, 2, 3. The object 1 belongs to the clusters 2 and 3. Finally the object 3 belongs to the clusters 1 and 3. <BR> \n",
    "Note that the separator is a tabulation."
   ]
  },
  {
   "cell_type": "markdown",
   "metadata": {},
   "source": [
    "The second file specifies the time the clusters occur.<BR>\n",
    "It is organized as follows:<BR>\n",
    "Example: datatimeindex.dat"
   ]
  },
  {
   "cell_type": "raw",
   "metadata": {},
   "source": [
    "1  1 \n",
    "1  0 \n",
    "2  2 \n",
    "3  3"
   ]
  },
  {
   "cell_type": "markdown",
   "metadata": {},
   "source": [
    "It means that the clusters 1 and 0 occur at time 1, the cluser 2 at time 2 and the cluster 3 at time 3. <BR>\n",
    "Note that the separator is a tabulation."
   ]
  },
  {
   "cell_type": "markdown",
   "metadata": {},
   "source": [
    "To run Getmove:"
   ]
  },
  {
   "cell_type": "raw",
   "metadata": {},
   "source": [
    "java -jar jGetMove.jar assets/example.dat assets/exampletimeindex.dat -p 2 -s 1 -t 1\n",
    "# help\n",
    "java -jar jGetMove.jar --help"
   ]
  },
  {
   "cell_type": "markdown",
   "metadata": {},
   "source": [
    "Installation of libraries:"
   ]
  },
  {
   "cell_type": "raw",
   "metadata": {},
   "source": [
    "pip install matplotlib\n",
    "pip install numpy\n",
    "pip install sklearn\n",
    "pip install pandas\n",
    "pip install pprint\n",
    "pip install pyproj\n",
    "pip install scipy\n",
    "pip install image"
   ]
  },
  {
   "cell_type": "markdown",
   "metadata": {},
   "source": [
    "At the end of the installation, the content of the directory must look like:"
   ]
  },
  {
   "cell_type": "raw",
   "metadata": {},
   "source": [
    "TrajectoriesNoteBook.ipynb\tbin\t\t\t\tjGetMove-2.0.1\t\t\tpip-selfcheck.json\n",
    "basemap-1.1.0\t\t\tetc\t\t\t\tlib\t\t\t\tshare\n",
    "basemap-1.1.0.tar\t\tinclude\t\t\t\tmigration_original.csv"
   ]
  },
  {
   "cell_type": "markdown",
   "metadata": {},
   "source": [
    "# Running trajectories"
   ]
  },
  {
   "cell_type": "code",
   "execution_count": null,
   "metadata": {},
   "outputs": [],
   "source": [
    "import matplotlib.pyplot as plt\n",
    "import matplotlib.cm as cm\n",
    "from mpl_toolkits.basemap import Basemap\n",
    "import numpy as np\n",
    "import datetime\n",
    "from sklearn.cluster import DBSCAN\n",
    "import pandas as pd\n",
    "from matplotlib import interactive\n",
    "import json\n",
    "import os\n",
    "from pprint import pprint"
   ]
  },
  {
   "cell_type": "code",
   "execution_count": null,
   "metadata": {},
   "outputs": [],
   "source": [
    "#init some constants\n",
    "#for DBSCAN\n",
    "epsilon=0.3\n",
    "mint=4\n",
    "#for plotting figures\n",
    "width=20\n",
    "height=12\n",
    "#Interval of time (e.g. 7D = 7 days)\n",
    "Itime='2D'"
   ]
  },
  {
   "cell_type": "markdown",
   "metadata": {},
   "source": [
    "![title](LarusFuscus.jpg)"
   ]
  },
  {
   "cell_type": "code",
   "execution_count": null,
   "metadata": {},
   "outputs": [],
   "source": [
    "#reading the file\n",
    "df = pd.read_csv(r\"migration_original.csv\")\n"
   ]
  },
  {
   "cell_type": "markdown",
   "metadata": {},
   "source": [
    "Some descriptions on the data"
   ]
  },
  {
   "cell_type": "code",
   "execution_count": null,
   "metadata": {},
   "outputs": [],
   "source": [
    "#Description of the data\n",
    "print (\"Number of lines and columns\")\n",
    "print(df.shape)\n",
    "print (\"\\n The different attributes\\n\")\n",
    "print (df.columns)\n",
    "\n",
    "\n",
    "print(\"\\n Number of places per birds\\n\")\n",
    "print ('The first ten: \\n')\n",
    "print('\\t',df.groupby('tag-local-identifier').size().head(10))\n",
    "print ('\\n The last ten')\n",
    "print('\\t',df.groupby('tag-local-identifier').size().tail(10))\n",
    "print ('\\n')\n",
    "\n"
   ]
  },
  {
   "cell_type": "code",
   "execution_count": null,
   "metadata": {},
   "outputs": [],
   "source": [
    "print ('\\n Keep only useful columns\\n')\n",
    "df=df[['event-id','timestamp','location-long', \n",
    "       'location-lat','tag-local-identifier']]\n",
    "\n",
    "#convert the date format\n",
    "time_format = \"%Y-%m-%d %H:%M:%S.%f\"\n",
    "#apply(lambda x : datetime.datetime.strptime(x, \n",
    "#                                            time_format).strftime(\"%B\"))\n",
    "df[\"month\"]=df[\"timestamp\"].apply(lambda x : \n",
    "                datetime.datetime.strptime(x, \n",
    "                time_format).strftime(\"%B\"))\n",
    "df[\"year\"] = df[\"timestamp\"].apply(lambda x : \n",
    "                datetime.datetime.strptime(x, \n",
    "                time_format).year)\n",
    "\n",
    "df[\"timestamp\"] = pd.to_datetime(df['timestamp'])\n",
    "df = df.sort_values(by='timestamp')\n",
    "\n",
    "print(\"First\", df.loc[[0]].timestamp.values[0])\n",
    "print(\"Last\", df.tail(1).timestamp.values[0])\n",
    "print('\\n Number of event per year')\n",
    "print('\\n\\t',df.groupby('year').size().tail(10))\n",
    "\n",
    "\n"
   ]
  },
  {
   "cell_type": "markdown",
   "metadata": {},
   "source": [
    "Let's plot the trajectories"
   ]
  },
  {
   "cell_type": "code",
   "execution_count": null,
   "metadata": {},
   "outputs": [],
   "source": [
    "#plot the trajectories\n",
    "\n",
    "gp = df.groupby(\"tag-local-identifier\")\n",
    "\n",
    "#Plot the map \n",
    "plt.figure(figsize=(width, height))\n",
    "map = Basemap(llcrnrlat=-5, urcrnrlat=68,\n",
    "              llcrnrlon=-10, urcrnrlon=65, \n",
    "              lat_ts=20, resolution='c')\n",
    "map.shadedrelief()\n",
    "\n",
    "#Select the colors\n",
    "colors = cm.rainbow(np.linspace(0, 1, len(gp.indices)))\n",
    "\n",
    "#Plot the trajectories\n",
    "j=0\n",
    "for i in gp.indices:\n",
    "    grp = gp.get_group(i) \n",
    "    map.plot(grp[\"location-long\"], grp[\"location-lat\"],\n",
    "             zorder=2, color=colors[j])\n",
    "    map.scatter(grp[\"location-long\"], grp[\"location-lat\"],\n",
    "                zorder=2, color=colors[j])\n",
    "    j += 1\n",
    "plt.show()"
   ]
  },
  {
   "cell_type": "markdown",
   "metadata": {},
   "source": [
    "In order to extract trajectories, it is mandatory to generate clusters. Here  DBSCAN (density-based algorithm) is used.<BR>\n",
    "First of all we select the period."
   ]
  },
  {
   "cell_type": "code",
   "execution_count": null,
   "metadata": {},
   "outputs": [],
   "source": [
    "#Create clusters\n",
    "def selectdate(start_date,end_date):\n",
    "    pd.options.mode.chained_assignment = None\n",
    "    start = df.loc[[0]].timestamp.values[0]##\n",
    "    end = df.tail(1).timestamp.values[0] \n",
    "    #### not mandatory. Give an indication on the most recent and the older date\n",
    "    date_range = pd.date_range(start=start_date, \n",
    "                               end=end_date, freq=Itime) \n",
    "                            # Interval of time (e.g. 7D = 7 days)\n",
    "    return date_range\n",
    "\n",
    "#summer time May - August\n",
    "start_date=\"2009-05-27\"\n",
    "end_date=\"2009-08-27\"\n",
    "\n",
    "date_range=selectdate(start_date,end_date)"
   ]
  },
  {
   "cell_type": "markdown",
   "metadata": {},
   "source": [
    "Plot the trajectories for the selected dates"
   ]
  },
  {
   "cell_type": "code",
   "execution_count": null,
   "metadata": {},
   "outputs": [],
   "source": [
    "def plottrajectories (start_date, end_date, df):\n",
    "    df1 = df[(df['timestamp'] > start_date) & (df['timestamp'] <= end_date)]\n",
    "    gp = df1.groupby(\"tag-local-identifier\")\n",
    "\n",
    "    #Plot the map \n",
    "    plt.figure(figsize=(width, height))\n",
    "    map = Basemap(llcrnrlat=-5, urcrnrlat=68,llcrnrlon=-10, \n",
    "                  urcrnrlon=65, lat_ts=20, resolution='c')\n",
    "    map.shadedrelief()\n",
    "    title=\"Trajectories from \"+start_date+\" to \"+end_date\n",
    "    plt.title(title)\n",
    "\n",
    "    #Select the colors\n",
    "    colors = cm.rainbow(np.linspace(0, 1, len(gp.indices)))\n",
    "\n",
    "    #Plot the trajectories\n",
    "    j=0\n",
    "    for i in gp.indices:\n",
    "        grp = gp.get_group(i) \n",
    "        map.plot(grp[\"location-long\"], grp[\"location-lat\"],\n",
    "                 zorder=2, color=colors[j])\n",
    "        map.scatter(grp[\"location-long\"], grp[\"location-lat\"],\n",
    "                    zorder=2, color=colors[j])\n",
    "        j += 1\n",
    "    plt.show()\n",
    "    \n",
    "plottrajectories (start_date, end_date, df)"
   ]
  },
  {
   "cell_type": "markdown",
   "metadata": {},
   "source": [
    "Then we create the clusters"
   ]
  },
  {
   "cell_type": "code",
   "execution_count": null,
   "metadata": {},
   "outputs": [],
   "source": [
    "def createclusters(date_range):\n",
    "    t, c_id = 0, 0 # t: temporal index,  c_id: cluster id \n",
    "    clusters = {}\n",
    "    cluster_positions={} # Have the centroid of all the clusters\n",
    "\n",
    "    while t + 1 < len(date_range):\n",
    "        # Select data according to the time interval \n",
    "        start, end = date_range[t], date_range[t + 1]\n",
    "        mask = (df['timestamp'] > start) & (df['timestamp'] <= end)\n",
    "        curr_df = df.loc[mask]\n",
    "    \n",
    "        # Get the coordinate of each entry\n",
    "        data_geo = curr_df.loc[:, 'location-long':'location-lat']\n",
    "        data_geo_2 = np.array(data_geo.values.tolist())\n",
    "        # Run DBSCAN\n",
    "        db = DBSCAN(eps=epsilon, min_samples=mint).fit(data_geo_2)\n",
    "        # Each entry is associated to its cluster\n",
    "        serie=pd.Series(db.labels_, index=curr_df.index)\n",
    "        curr_df.loc[:, 'cluster'] = serie\n",
    "        # groupby by cluster\n",
    "        gp = curr_df.groupby(\"cluster\")\n",
    "        for i in gp.indices:\n",
    "        \n",
    "            # For each cluster\n",
    "            grp = gp.get_group(i)\n",
    "        \n",
    "            # Get the centroid \n",
    "            coord = grp.loc[:, 'location-long':'location-lat']\n",
    "            coord = np.array(coord.values.tolist())\n",
    "            cluster_positions[c_id]=[np.mean(coord[:,0]),\n",
    "                                     np.mean(coord[:,1])]\n",
    "        \n",
    "            # Save the data\n",
    "            # Interpretation: The cluster 'c_id' belong to time 't' \n",
    "            #where there are birds 'birds_ids'\n",
    "            clusters[c_id] = {\"time\": t,\n",
    "                          \"birds_ids\": grp[\"tag-local-identifier\"].unique()}\n",
    "            c_id += 1\n",
    "        t += 1\n",
    "\n",
    "    print(\"Number of Clusters:\",len(clusters))   \n",
    "    # We associate an id to each bird identifier \n",
    "    # Each id corresponds to the line number in the input file of \n",
    "    #jGetMove c_id, tag_2_id = 0, {}\n",
    "    c_id, tag_2_id = 0, {}\n",
    "    for tag in df[\"tag-local-identifier\"].unique():\n",
    "        tag_2_id[tag] = c_id\n",
    "        c_id += 1\n",
    "    return clusters, cluster_positions, tag_2_id    \n",
    "\n",
    "\n",
    "clusters, cluster_positions, tag_2_id = createclusters(date_range)"
   ]
  },
  {
   "cell_type": "code",
   "execution_count": null,
   "metadata": {},
   "outputs": [],
   "source": [
    "\n",
    "#map and save data according to the input formats of jGetMove\n",
    "def save_data(clusters): \n",
    "    data_table = [[] for i in range(len(np.unique(df[\"tag-local-identifier\"])))]\n",
    "    time_index_table = [] \n",
    "    nb=0\n",
    "    for clu in clusters:\n",
    "        for b in clusters[clu][\"birds_ids\"]: \n",
    "            data_table[tag_2_id[b]].append(clu)\n",
    "\n",
    "    for clu in clusters: \n",
    "        time_index_table.append([clusters[clu][\"time\"], clu])\n",
    "    time_index_table = sorted(time_index_table, \n",
    "                              key=lambda a_entry: a_entry[0])\n",
    "    \n",
    "    np.savetxt(\"birdstimeindex.dat\", np.array( time_index_table, \n",
    "                                              dtype=int), \n",
    "               fmt='%d')\n",
    "\n",
    "    input_data = \"\"\n",
    "    for l in data_table:\n",
    "        if l != []:\n",
    "            input_data += \"\\t\".join([str(i) for i in l]) + \"\\n\" \n",
    "    input_data = input_data.strip()\n",
    "    open(\"birds.dat\", 'w').write(input_data)\n",
    "    print (\"Files generated\\n\")\n",
    "        \n",
    "save_data(clusters)"
   ]
  },
  {
   "cell_type": "code",
   "execution_count": null,
   "metadata": {},
   "outputs": [],
   "source": [
    "#run jGetMove\n",
    "#assume that the path is correctly set\n",
    "#The full command in two lines for printing\n",
    "#java -jar jGetMove-2.0.1/jGetMove.jar jGetMove-2.0.1/assets/birds.dat\n",
    "#jGetMove-2.0.1/assets/birdstimeindex.dat -o results.json -p 2 -s 2 -t 1\")\n",
    "\n",
    "\n",
    "def runjgetmove():\n",
    "    os.system(\"cp birds.dat jGetMove-2.0.1/assets/birds.dat\")\n",
    "    os.system(\"cp birdstimeindex.dat jGetMove-2.0.1/assets/birdstimeindex.dat\")\n",
    "    os.system(\"java -jar jGetMove-2.0.1/jGetMove.jar jGetMove-2.0.1/assets/birds.dat jGetMove-2.0.1/assets/birdstimeindex.dat -o results.json -p 2 -s 2 -t 1\")\n",
    "\n",
    "\n",
    "runjgetmove()"
   ]
  },
  {
   "cell_type": "code",
   "execution_count": null,
   "metadata": {},
   "outputs": [],
   "source": [
    "def getpatterns():\n",
    "    result=json.load(open(\"results.json\"))\n",
    "    pattern = result['patterns']\n",
    "    nbpats=0\n",
    "    for element in result['patterns']:\n",
    "        nbpats=nbpats+1\n",
    "    print (\"Number of patterns:\", nbpats, \"\\n\")    \n",
    "    return result,nbpats    \n",
    "    \n",
    "\n",
    "result,nbpatterns=getpatterns() "
   ]
  },
  {
   "cell_type": "code",
   "execution_count": null,
   "metadata": {},
   "outputs": [],
   "source": [
    "def plotpatterns (nbpat):\n",
    "    for nb in range (nbpat):\n",
    "        index_pattern_value=nb+1\n",
    "        links=pd.DataFrame(result[\"patterns\"][-index_pattern_value][\"links\"]) \n",
    "\n",
    "\n",
    "        plt.clf()\n",
    "        plt.figure(figsize=(width, height))\n",
    "\n",
    "        nodes=result[\"nodes\"]\n",
    "\n",
    "        map = Basemap(llcrnrlat=-5, urcrnrlat=68,llcrnrlon=-10, urcrnrlon=65, lat_ts=20)\n",
    "        map.shadedrelief()\n",
    "        map.drawrivers()\n",
    "        map.fillcontinents(lake_color='#89C4F4', zorder=1)\n",
    "\n",
    "        colors = cm.rainbow(np.linspace(0, 1, len(nodes)))\n",
    "        title=result['patterns'][index_pattern_value-1]['name']+ \" from \"+start_date+\" to \"+end_date\n",
    "        plt.title(title)\n",
    "\n",
    "        for node in nodes:\n",
    "            pos=cluster_positions[node[\"id\"]] \n",
    "            x,y=map(pos[0],pos[1]) \n",
    "            map.scatter(x,y,color=colors[node[\"id\"]],zorder=2)\n",
    "\n",
    "        # Plotting trajectories\n",
    "        gp = links.groupby(\"value\")\n",
    "        colors_links = cm.rainbow(np.linspace(0, 1, len(gp.indices)))\n",
    "        id_=0\n",
    "        for i in gp.indices:\n",
    "            grp = gp.get_group(i)\n",
    "            coords=[[cluster_positions[row[\"source\"]],\n",
    "                     cluster_positions[row[\"target\"]]] for ind, row in grp.iterrows()]\n",
    "            final_cords=[]\n",
    "            for c in coords:\n",
    "                for sub_c in c:\n",
    "                    final_cords.append(sub_c)\n",
    "            final_cords=np.array(final_cords)\n",
    "            map.plot(final_cords[:,0],final_cords[:,1],\n",
    "                     color=colors_links[id_],zorder=3)\n",
    "            id_+=1\n",
    "        plt.show()"
   ]
  },
  {
   "cell_type": "markdown",
   "metadata": {},
   "source": [
    "Let's plot the first pattern"
   ]
  },
  {
   "cell_type": "code",
   "execution_count": null,
   "metadata": {},
   "outputs": [],
   "source": [
    "plotpatterns(1)\n"
   ]
  },
  {
   "cell_type": "markdown",
   "metadata": {},
   "source": [
    "And all the patterns"
   ]
  },
  {
   "cell_type": "code",
   "execution_count": null,
   "metadata": {
    "scrolled": false
   },
   "outputs": [],
   "source": [
    "plotpatterns(nbpatterns)"
   ]
  },
  {
   "cell_type": "markdown",
   "metadata": {},
   "source": [
    "**Starting the migration (August - September)**"
   ]
  },
  {
   "cell_type": "code",
   "execution_count": null,
   "metadata": {
    "scrolled": false
   },
   "outputs": [],
   "source": [
    "#August - September\n",
    "start_date=\"2009-08-01\"\n",
    "end_date=\"2009-09-27\"\n",
    "Itime='2D'\n",
    "date_range=selectdate(start_date,end_date)\n",
    "clusters={}\n",
    "cluster_positions={}\n",
    "tag_2_id={}\n",
    "clusters, cluster_positions, tag_2_id = createclusters(date_range)\n",
    "save_data(clusters)\n",
    "runjgetmove()\n",
    "result,nbpatterns=getpatterns() \n",
    "plotpatterns(nbpatterns)"
   ]
  },
  {
   "cell_type": "markdown",
   "metadata": {},
   "source": [
    "**Continuing the migration (September - November)**"
   ]
  },
  {
   "cell_type": "code",
   "execution_count": null,
   "metadata": {
    "scrolled": false
   },
   "outputs": [],
   "source": [
    "\n",
    "#September - November\n",
    "start_date=\"2009-09-30\"\n",
    "end_date=\"2009-11-15\"\n",
    "Itime='2D'\n",
    "date_range=selectdate(start_date,end_date)\n",
    "clusters={}\n",
    "cluster_positions={}\n",
    "tag_2_id={}\n",
    "clusters, cluster_positions, tag_2_id = createclusters(date_range)\n",
    "save_data(clusters)\n",
    "runjgetmove()\n",
    "result,nbpatterns=getpatterns() \n",
    "plotpatterns(nbpatterns)"
   ]
  },
  {
   "cell_type": "markdown",
   "metadata": {},
   "source": [
    "# Visualising with Sankeys"
   ]
  },
  {
   "cell_type": "markdown",
   "metadata": {
    "heading_collapsed": true
   },
   "source": [
    "## Initialisation"
   ]
  },
  {
   "cell_type": "markdown",
   "metadata": {
    "hidden": true
   },
   "source": [
    "Mamp must be running. One sankey visualization can be downloaded here: https://github.com/jGetMove/GetD3ed"
   ]
  },
  {
   "cell_type": "raw",
   "metadata": {
    "hidden": true
   },
   "source": [
    "#installation\n",
    "git clone  https://github.com/jGetMove/GetD3ed\n",
    "#install to the htdocs directory\n",
    "cp -R GetD3ed /Applications/MAMP/htdocs/."
   ]
  },
  {
   "cell_type": "markdown",
   "metadata": {},
   "source": [
    "## An example of visualization of trajectories with Sankeys"
   ]
  },
  {
   "cell_type": "code",
   "execution_count": null,
   "metadata": {},
   "outputs": [],
   "source": [
    "\n",
    "import webbrowser as wb\n",
    "#url='http://localhost/web/trajectories.html'\n",
    "\n",
    "#wb.open_new(url)\n",
    "\n",
    "\n",
    "url='http://localhost/GetD3ed_test/recast.html'\n",
    "wb.open_new(url)\n",
    "\n"
   ]
  }
 ],
 "metadata": {
  "kernelspec": {
   "display_name": "Python 3",
   "language": "python",
   "name": "python3"
  },
  "language_info": {
   "codemirror_mode": {
    "name": "ipython",
    "version": 3
   },
   "file_extension": ".py",
   "mimetype": "text/x-python",
   "name": "python",
   "nbconvert_exporter": "python",
   "pygments_lexer": "ipython3",
   "version": "3.6.4"
  }
 },
 "nbformat": 4,
 "nbformat_minor": 2
}
