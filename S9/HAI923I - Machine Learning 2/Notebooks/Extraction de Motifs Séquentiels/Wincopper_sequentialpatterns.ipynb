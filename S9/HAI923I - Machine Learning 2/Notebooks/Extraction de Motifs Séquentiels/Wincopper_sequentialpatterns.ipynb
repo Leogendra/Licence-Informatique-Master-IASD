{
  "nbformat": 4,
  "nbformat_minor": 0,
  "metadata": {
    "colab": {
      "name": "Wincopper_sequentialpatterns.ipynb",
      "provenance": [],
      "collapsed_sections": []
    },
    "kernelspec": {
      "name": "python2",
      "display_name": "Python 2"
    },
    "language_info": {
      "name": "python"
    }
  },
  "cells": [
    {
      "cell_type": "markdown",
      "metadata": {
        "id": "3QuBznJboZDJ"
      },
      "source": [
        "<H1> Utiliser wincopper pour extraire des motifs séquentiels</H1>\n",
        "\n",
        "L'objectif de ce notebook est de montrer l'utilisation de wincopper. Les algorithmes et structures sont décrites dans \n",
        "*Alatrista-Salas, H., Guevara-Cogorno, A., Maehara, Y. Nunez-del-Prado, M. (2020). Efficiently Mining Gapped and Window Constraint Frequent Sequential Patterns. Proceedings 17th International Conference on Modeling Decisions for Artificial Intelligence (https://link.springer.com/chapter/10.1007/978-3-030-57524-3_20)*.   \n",
        "\n",
        "Wincopper offre la possibilité outre d'extraire les motifs, de pouvoir prendre en compte des contraintes de temps. Il propose également une implémentation de prefixspan. Le lien github est ici : https://github.com/bitmapup/prefixspanr/  \n",
        "\n",
        "**Attention:** la version actuelle est en Python 2. Une version en Python 3 devrait bientôt être mise en place."
      ]
    },
    {
      "cell_type": "markdown",
      "metadata": {
        "id": "_VQSC8frX5Ao"
      },
      "source": [
        "## Installation\n"
      ]
    },
    {
      "cell_type": "markdown",
      "metadata": {
        "id": "5zICeCUqYCfS"
      },
      "source": [
        "\n",
        "Avant de commencer, il est nécessaire de déjà posséder dans son environnement toutes les librairies utiles. Dans la seconde cellule nous importons toutes les librairies qui seront utiles à ce notebook. Il se peut que, lorsque vous lanciez l'éxecution de cette cellule, une soit absente. Dans ce cas il est nécessaire de l'installer. Pour cela dans la cellule suivante utiliser la commande :  \n",
        "\n",
        "*! pip install nom_librairie*  \n",
        "\n",
        "**Attention :** il est fortement conseillé lorsque l'une des librairies doit être installer de relancer le kernel de votre notebook.\n",
        "\n",
        "**Remarque :** même si toutes les librairies sont importées dès le début, les librairies utiles pour des fonctions présentées au cours de ce notebook sont ré-importées de manière à indiquer d'où elles viennent et ainsi faciliter la réutilisation de la fonction dans un autre projet.\n",
        "\n",
        "\n",
        "**Attention : ici il faut impérativement installer les librairies associées à wincopper**\n"
      ]
    },
    {
      "cell_type": "code",
      "metadata": {
        "id": "I0OpnDBHYHmv"
      },
      "source": [
        "# utiliser cette cellule pour installer les librairies manquantes\n",
        "# pour cela il suffit de taper dans cette cellule : !pip install nom_librairie_manquante\n",
        "# d'exécuter la cellule et de relancer la cellule suivante pour voir si tout se passe bien\n",
        "# recommencer tant que toutes les librairies ne sont pas installées ...\n",
        "\n",
        "\n",
        "!pip install git+https://github.com/bitmapup/prefixspanr.git\n",
        "\n",
        "\n",
        "# eventuellement ne pas oublier de relancer le kernel du notebook"
      ],
      "execution_count": null,
      "outputs": []
    },
    {
      "cell_type": "code",
      "metadata": {
        "id": "FZw2C6r8YJWW"
      },
      "source": [
        "# Importation des différentes librairies utiles pour le notebook\n",
        "\n",
        "#Sickit learn met régulièrement à jour des versions et \n",
        "#indique des futurs warnings. \n",
        "#ces deux lignes permettent de ne pas les afficher.\n",
        "import warnings\n",
        "warnings.filterwarnings(\"ignore\", category=FutureWarning)\n",
        "\n",
        "# librairies générales\n",
        "\n",
        "import pandas as pd\n",
        "import numpy as np\n",
        "import re\n",
        "import sys\n",
        "import psutil\n",
        "\n",
        "from ast import literal_eval\n",
        "\n",
        "# pour wincopper\n",
        "import wincopper as wc\n",
        "\n"
      ],
      "execution_count": null,
      "outputs": []
    },
    {
      "cell_type": "markdown",
      "metadata": {
        "id": "0s2sF7a-am4I"
      },
      "source": [
        "Pour pouvoir sauvegarder sur votre répertoire Google Drive, il est nécessaire de fournir une autorisation. Pour cela il suffit d'éxecuter la ligne suivante et de saisir le code donné par Google."
      ]
    },
    {
      "cell_type": "code",
      "metadata": {
        "id": "q1zULJ9daqP6"
      },
      "source": [
        "# pour monter son drive Google Drive local\n",
        "from google.colab import drive\n",
        "drive.mount('/content/gdrive')"
      ],
      "execution_count": null,
      "outputs": []
    },
    {
      "cell_type": "markdown",
      "metadata": {
        "id": "0qe4Xtohau6v"
      },
      "source": [
        "Corriger éventuellement la ligne ci-dessous pour mettre le chemin vers un répertoire spécifique dans votre répertoire Google Drive : "
      ]
    },
    {
      "cell_type": "code",
      "metadata": {
        "id": "ahDl5RV9tVfp"
      },
      "source": [
        "my_local_drive='/content/gdrive/My Drive/Colab Notebooks/ML_FDS'\n",
        "# Ajout du path pour les librairies, fonctions et données\n",
        "sys.path.append(my_local_drive)\n",
        "# Se positionner sur le répertoire associé\n",
        "%cd $my_local_drive\n",
        "\n",
        "%pwd"
      ],
      "execution_count": null,
      "outputs": []
    },
    {
      "cell_type": "markdown",
      "metadata": {
        "id": "FoeniLYJ7IIC"
      },
      "source": [
        "# Utilisation de wincopper  \n",
        "\n",
        "\n",
        "Télécharger le fichier dataset_wincopper.csv dans votre répertoire courant. Pour cela, décommenter la cellule suivante : "
      ]
    },
    {
      "cell_type": "code",
      "metadata": {
        "id": "rT2nd7ZY7eLR"
      },
      "source": [
        "#!wget http://www.lirmm.fr/~poncelet/Ressources/dataset_wincopper.csv"
      ],
      "execution_count": null,
      "outputs": []
    },
    {
      "cell_type": "markdown",
      "metadata": {
        "id": "R0yeUAjP7ubf"
      },
      "source": [
        "Lecture et conversion du fichier :"
      ]
    },
    {
      "cell_type": "code",
      "metadata": {
        "id": "FvLT6h3A7xRi"
      },
      "source": [
        "# les items dans le fichier exemple sont sous la forme de string, i.e. 'a', il faut les convertir en literal\n",
        "data = pd.read_csv(\"dataset_wincopper.csv\", sep=\",\", header=0, converters={\"sequence\": literal_eval})\n",
        "display(data)\n"
      ],
      "execution_count": null,
      "outputs": []
    },
    {
      "cell_type": "markdown",
      "metadata": {
        "id": "FcTugw18_DcP"
      },
      "source": [
        "Récupération des identifiants de séquences (*sid*) et des séquences dans des listes."
      ]
    },
    {
      "cell_type": "code",
      "metadata": {
        "id": "udLAcggo_EVA"
      },
      "source": [
        "sids = list(data[\"sid\"])\n",
        "sequences = list(data[\"sequence\"])"
      ],
      "execution_count": null,
      "outputs": []
    },
    {
      "cell_type": "markdown",
      "metadata": {
        "id": "7Tr5oDhA_vHS"
      },
      "source": [
        "## Utilisation de PrefixSpan  \n",
        "\n",
        "Prefixspan manipule des listes d'itemsets. Il est possible de la spécifier dans les options.  "
      ]
    },
    {
      "cell_type": "markdown",
      "metadata": {
        "id": "HbI8vYFn_eXi"
      },
      "source": [
        "Pour utiliser PrefixSpan, il existe différentes options : \n",
        "* *'threshold'* (support minimal) avec *'threshold' : int or float*. Si threshold est un entier Wincopper considère qu'il s'agit d'un support absolu alors que pour un float il s'agit du support relatif. \n",
        "* *'items_separated'* avec *'items_separated'= False or True*. Si *itemsSeparated = True* les patterns ne peuvent contenir seulement que des 1-itemsets. Si *itemsSeparated = False* les patterns seront composés de k-itemsets (valeur par défaut).\n",
        "* *'window'*: taille de fenêtre maximale entre itemsets\n",
        "* *'gap'*: gap maximum entre itemsets\n",
        "\n",
        "\n",
        "\n",
        "**Attention:** Prefixspan considère des listes d'itemsets donc *itemsSeparated = False*\n"
      ]
    },
    {
      "cell_type": "code",
      "metadata": {
        "id": "eS3VuhVl_fUb"
      },
      "source": [
        "# spécification du support minimal en entier (donc par rapport aux nombres de séquences de la base)\n",
        "threshold = 3\n",
        "# contient k-itemsets séparés par des virgules\n",
        "items_separated = False\n",
        "\n",
        "options = {'threshold': threshold, 'itemsSeparated': items_separated}"
      ],
      "execution_count": null,
      "outputs": []
    },
    {
      "cell_type": "markdown",
      "metadata": {
        "id": "82Wt0msEDEv7"
      },
      "source": [
        "Il suffit alors d'appeler la méthode *prefixspan* avec la liste des options."
      ]
    },
    {
      "cell_type": "code",
      "metadata": {
        "id": "HnVoijhsCHvv"
      },
      "source": [
        "result_mining = wc.prefixspan(sequences, options)\n",
        "\n",
        "for pat in result_mining:\n",
        "    print(pat)"
      ],
      "execution_count": null,
      "outputs": []
    },
    {
      "cell_type": "markdown",
      "metadata": {
        "id": "rBO_orvxFE3I"
      },
      "source": [
        "Avec d'autres contraintes : \n"
      ]
    },
    {
      "cell_type": "code",
      "metadata": {
        "id": "FqZ11sN3FILK"
      },
      "source": [
        "# spécification du support minimal en entier (donc par rapport aux nombres de séquences de la base)\n",
        "threshold = 3\n",
        "# contient k-itemsets séparés par des virgules\n",
        "items_separated = False\n",
        "# max window de 1, il faut 1 au max entre les itemsets\n",
        "maxwindow=1\n",
        "options = {'threshold': threshold, 'itemsSeparated': items_separated, 'window':maxwindow}\n",
        "result_mining = wc.prefixspan(sequences, options)\n",
        "\n",
        "for pat in result_mining:\n",
        "    print(pat)"
      ],
      "execution_count": null,
      "outputs": []
    },
    {
      "cell_type": "markdown",
      "metadata": {
        "id": "tK1j9EfVDPj9"
      },
      "source": [
        "## Utilisation de wincopper \n",
        "\n",
        "Wincopper propose de pouvoir utiliser différentes contraintes qui peuvent être précisées dans les options : \n",
        "\n",
        "* *'threshold'*: support minimal en entier (support absolu) ou en float (support relatif)\n",
        "* *'minSseq'*: constrainte de taille minimale minimale des itemsets (itemset size)\n",
        "* *'maxSseq'*: contrainte de taille maximale des itemsets  (itemset size)\n",
        "* *'minSize'*: contrainte de taille minimale des patterns (subsequence size)\n",
        "* *'maxSize'*: contrainte de taille maximale des patterns (subsequence size)\n",
        "* *'logic'*: contraite d'inclusion souple   \n",
        "OR relation '(s1 | s2)'  \n",
        "AND relation '(s1 & s2)'  "
      ]
    },
    {
      "cell_type": "code",
      "metadata": {
        "id": "Sjy9VSzkGKiU"
      },
      "source": [
        "# spécification du support minimal en entier (donc par rapport aux nombres de séquences de la base)\n",
        "threshold = 2\n",
        "# contient k-itemsets séparés par des virgules\n",
        "items_separated = False\n",
        "\n",
        "# taille minimale des sous séquences\n",
        "minseq = 2\n",
        "# taille maximale des sous séquences\n",
        "maxseq = 2\n",
        "options = {'threshold': threshold, 'itemsSeparated': items_separated, 'maxSseq':maxseq,'minSseq':minseq}\n",
        "\n",
        "result_mining = wc.prefixspan(sequences, options)\n",
        "\n",
        "for pat in result_mining:\n",
        "    print(pat)"
      ],
      "execution_count": null,
      "outputs": []
    },
    {
      "cell_type": "markdown",
      "metadata": {
        "id": "hTTI2dUdJT0J"
      },
      "source": [
        "Il existe d'autres options qui peuvent être utilisées :\n",
        "* *'dataDesc'*: permet de donner un nom au fichier résultat\n",
        "* *'resultFile'*: drapeau pour générer un fichier résultat. Si *resultFile=True* un fichier avec les patterns extrait est créé (défaut). Si *resultFile=False* aucun fichier n'est généré.\n",
        "* *'test'*: pour générer un résumé de fichier de tests (dans un but d'expérimentation). Si *test=True* le résumé est généré. Si *test=False* aucun fichier n'est généré (défaut).\n"
      ]
    },
    {
      "cell_type": "code",
      "metadata": {
        "id": "rv1O5-gKJiml"
      },
      "source": [
        "# spécification du support minimal en entier (donc par rapport aux nombres de séquences de la base)\n",
        "threshold = 2\n",
        "# contient k-itemsets séparés par des virgules\n",
        "items_separated = False\n",
        "\n",
        "# taille minimale des sous séquences\n",
        "minseq = 2\n",
        "# taille maximale des sous séquences\n",
        "maxseq = 2\n",
        "# \n",
        "test=True\n",
        "options = {'threshold': threshold, 'itemsSeparated': items_separated, 'maxSseq':maxseq,'minSseq':minseq, \n",
        "          'test':True, 'dataDesc':'toto.txt'}\n",
        "\n",
        "result_mining = wc.prefixspan(sequences, options)\n",
        "\n",
        "for pat in result_mining:\n",
        "    print(pat)"
      ],
      "execution_count": null,
      "outputs": []
    }
  ]
}