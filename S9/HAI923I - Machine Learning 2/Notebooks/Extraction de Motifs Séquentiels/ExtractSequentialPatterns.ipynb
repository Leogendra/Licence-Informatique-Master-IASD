{
  "nbformat": 4,
  "nbformat_minor": 0,
  "metadata": {
    "kernelspec": {
      "display_name": "Python 3",
      "language": "python",
      "name": "python3"
    },
    "language_info": {
      "codemirror_mode": {
        "name": "ipython",
        "version": 3
      },
      "file_extension": ".py",
      "mimetype": "text/x-python",
      "name": "python",
      "nbconvert_exporter": "python",
      "pygments_lexer": "ipython3",
      "version": "3.6.4"
    },
    "toc": {
      "base_numbering": 1,
      "nav_menu": {},
      "number_sections": true,
      "sideBar": true,
      "skip_h1_title": false,
      "title_cell": "Table of Contents",
      "title_sidebar": "Contents",
      "toc_cell": false,
      "toc_position": {},
      "toc_section_display": true,
      "toc_window_display": false
    },
    "colab": {
      "name": "ExtractSequentialPatterns.ipynb",
      "provenance": []
    }
  },
  "cells": [
    {
      "cell_type": "markdown",
      "metadata": {
        "id": "7YDZ3LW-0usK"
      },
      "source": [
        "<h1> Extraction de motifs séquentiels </h1>\n",
        "\n",
        "Dans ce notebook nous présentons différentes librairies d'extraction de motifs séquentiels. Comme pour les règles d'association, il en existe relativement peu en Python. \n",
        "Nous pouvons citer Aprioriall, Wincopper et PrefixSpan. Il existe des implémentations en Java.   \n",
        "\n",
        "L'objectif est juste d'illustrer le fonctionnement de ce type d'algorithmes. Nous ne les détaillons pas tous et nous focalisons sur Aprioriall et PrefixSpan. Le lecteur intéressé par Wincopper peut se reporter à : https://github.com/bitmapup/prefixspanr/\n",
        "Ce dernier offre des fonctionnalités intéressantes en intégrant notamment des contraintes sur les temps. Les implémentations en java posant problème avec Colab, elles ne sont pas traitées."
      ]
    },
    {
      "cell_type": "markdown",
      "metadata": {
        "id": "8MVJZ3UDKjWY"
      },
      "source": [
        "## Installation\n",
        "\n",
        "\n",
        "Avant de commencer, il est nécessaire de déjà posséder dans son environnement toutes les librairies utiles. Dans la seconde cellule nous importons toutes les librairies qui seront utiles à ce notebook. Il se peut que, lorsque vous lanciez l'éxecution de cette cellule, une soit absente. Dans ce cas il est nécessaire de l'installer. Pour cela dans la cellule suivante utiliser la commande :  \n",
        "\n",
        "*! pip install nom_librairie*  \n",
        "\n",
        "**Attention :** il est fortement conseillé lorsque l'une des librairies doit être installer de relancer le kernel de votre notebook.\n",
        "\n",
        "**Remarque :** même si toutes les librairies sont importées dès le début, les librairies utiles pour des fonctions présentées au cours de ce notebook sont ré-importées de manière à indiquer d'où elles viennent et ainsi faciliter la réutilisation de la fonction dans un autre projet.  \n",
        "\n",
        " "
      ]
    },
    {
      "cell_type": "code",
      "metadata": {
        "id": "Lrvaez1DKjWY"
      },
      "source": [
        "# utiliser cette cellule pour installer les librairies manquantes\n",
        "# pour cela il suffit de taper dans cette cellule : !pip install nom_librairie_manquante\n",
        "# d'exécuter la cellule et de relancer la cellule suivante pour voir si tout se passe bien\n",
        "# recommencer tant que toutes les librairies ne sont pas installées ...\n",
        "\n",
        "\n",
        "#!pip install ..\n",
        "!pip install prefixspan\n",
        "\n",
        "# ne pas oublier de relancer le kernel du notebook"
      ],
      "execution_count": null,
      "outputs": []
    },
    {
      "cell_type": "code",
      "metadata": {
        "id": "Jo9g1lhsKjWY"
      },
      "source": [
        "# Importation des différentes librairies utiles pour le notebook\n",
        "\n",
        "#Sickit learn met régulièrement à jour des versions et \n",
        "#indique des futurs warnings. \n",
        "#ces deux lignes permettent de ne pas les afficher.\n",
        "import warnings\n",
        "warnings.filterwarnings(\"ignore\", category=FutureWarning)\n",
        "warnings.filterwarnings(\"ignore\", category=DeprecationWarning)\n",
        "warnings.filterwarnings('ignore','SelectableGroups dict interface')\n",
        "\n",
        "with warnings.catch_warnings():\n",
        "    warnings.simplefilter('ignore')\n",
        "    # do something here and its warning is suppressed\n",
        "\n",
        "# librairies générales\n",
        "import pandas as pd\n",
        "\n",
        "import numpy as np\n",
        "\n",
        "\n"
      ],
      "execution_count": null,
      "outputs": []
    },
    {
      "cell_type": "markdown",
      "metadata": {
        "id": "ds6bgeCxKjWZ"
      },
      "source": [
        "Pour pouvoir sauvegarder sur votre répertoire Google Drive, il est nécessaire de fournir une autorisation. Pour cela il suffit d'éxecuter la ligne suivante et de saisir le code donné par Google."
      ]
    },
    {
      "cell_type": "code",
      "metadata": {
        "id": "MaDqGIrZKjWa"
      },
      "source": [
        "# pour monter son drive Google Drive local\n",
        "from google.colab import drive\n",
        "drive.mount('/content/gdrive')"
      ],
      "execution_count": null,
      "outputs": []
    },
    {
      "cell_type": "markdown",
      "metadata": {
        "id": "L59rGQD7KjWa"
      },
      "source": [
        "Corriger éventuellement la ligne ci-dessous pour mettre le chemin vers un répertoire spécifique dans votre répertoire Google Drive :"
      ]
    },
    {
      "cell_type": "code",
      "metadata": {
        "id": "2yD3giV5KjWa"
      },
      "source": [
        "import sys\n",
        "my_local_drive='/content/gdrive/My Drive/Colab Notebooks/ML_FDS'\n",
        "# Ajout du path pour les librairies, fonctions et données\n",
        "sys.path.append(my_local_drive)\n",
        "# Se positionner sur le répertoire associé\n",
        "%cd $my_local_drive\n",
        "\n",
        "%pwd"
      ],
      "execution_count": null,
      "outputs": []
    },
    {
      "cell_type": "markdown",
      "metadata": {
        "id": "lYuJdNCI0usP"
      },
      "source": [
        "## The Aprioriall algorithm"
      ]
    },
    {
      "cell_type": "code",
      "metadata": {
        "ExecuteTime": {
          "end_time": "2020-09-07T17:36:23.935348Z",
          "start_time": "2020-09-07T17:36:23.925430Z"
        },
        "id": "-tztygEK0usQ"
      },
      "source": [
        "import aprioriall "
      ],
      "execution_count": null,
      "outputs": []
    },
    {
      "cell_type": "markdown",
      "metadata": {
        "id": "ofk_VoDR0usS"
      },
      "source": [
        "The format of the dataset is:\n",
        "* An event is a list of strings.\n",
        "* A sequence is a list of events.\n",
        "* A dataset is a list of sequences.\n",
        "\n",
        "Example:<BR>\n",
        "\n",
        "<pre>\n",
        "dataset =  [\n",
        "      [[\"a\"], [\"a\", \"b\", \"c\"], [\"a\", \"c\"], [\"c\"]],\n",
        "      [[\"a\"], [\"c\"], [\"b\", \"c\"]],\n",
        "      [[\"a\", \"b\"], [\"d\"], [\"c\"], [\"b\"], [\"c\"]],\n",
        "      [[\"a\"], [\"c\"], [\"b\"], [\"c\"]]\n",
        "]      \n",
        "</pre>\n"
      ]
    },
    {
      "cell_type": "code",
      "metadata": {
        "ExecuteTime": {
          "end_time": "2020-09-07T17:36:24.008354Z",
          "start_time": "2020-09-07T17:36:23.943219Z"
        },
        "id": "-QqUV25-0usS"
      },
      "source": [
        "dataset =  [\n",
        "    [[\"a\"], [\"a\", \"b\", \"c\"], [\"a\", \"c\"], [\"c\"]],\n",
        "    [[\"a\"], [\"c\"], [\"b\", \"c\"]],\n",
        "    [[\"a\", \"b\"], [\"d\"], [\"c\"], [\"b\"], [\"c\"]],\n",
        "    [[\"a\"], [\"a\", \"b\", \"c\"], [\"a\", \"c\"], [\"c\"]],\n",
        "    [[\"a\"], [\"c\"], [\"b\", \"c\"]],\n",
        "    [[\"a\", \"b\"], [\"d\"], [\"c\"], [\"b\"], [\"c\"]],\n",
        "    [[\"a\"], [\"a\", \"b\", \"c\"], [\"a\", \"c\"], [\"c\"]],\n",
        "    [[\"a\"], [\"c\"], [\"b\", \"c\"]],\n",
        "    [[\"a\", \"b\"], [\"d\"], [\"c\"], [\"b\"], [\"c\"]],\n",
        "    [[\"a\"], [\"a\", \"b\", \"c\"], [\"a\", \"c\"], [\"c\"]],\n",
        "    [[\"a\"], [\"c\"], [\"b\", \"c\"]],\n",
        "    [[\"a\", \"b\"], [\"d\"], [\"c\"], [\"b\"], [\"c\"]],\n",
        "    [[\"a\"], [\"a\", \"b\", \"c\"], [\"a\", \"c\"], [\"c\"]],\n",
        "    [[\"a\"], [\"c\"], [\"b\", \"c\"]],\n",
        "    [[\"a\", \"b\"], [\"d\"], [\"c\"], [\"b\"], [\"c\"]],\n",
        "    [[\"a\"], [\"a\", \"b\", \"c\"], [\"a\", \"c\"], [\"c\"]],\n",
        "    [[\"a\"], [\"c\"], [\"b\", \"c\"]],\n",
        "    [[\"a\", \"b\"], [\"d\"], [\"c\"], [\"b\"], [\"c\"]],\n",
        "    [[\"a\"], [\"a\", \"b\", \"c\"], [\"a\", \"c\"], [\"c\"]],\n",
        "    [[\"a\"], [\"c\"], [\"b\", \"c\"]],\n",
        "    [[\"a\", \"b\"], [\"d\"], [\"c\"], [\"b\"], [\"c\"]],      \n",
        "    [[\"a\"], [\"c\"], [\"b\"], [\"c\"]]\n",
        "]"
      ],
      "execution_count": null,
      "outputs": []
    },
    {
      "cell_type": "code",
      "metadata": {
        "ExecuteTime": {
          "end_time": "2020-09-07T17:36:24.038198Z",
          "start_time": "2020-09-07T17:36:24.012242Z"
        },
        "id": "Oi9roGao0usT"
      },
      "source": [
        "dataset =  [\n",
        "    [[\"R1\"], [\"G2\", \"R1\"], [\"R1\"]],\n",
        "    [[\"e\"], [\"a\"], [\"e\"], [\"b\",\"c\"], [\"f\"], [\"d\"]],\n",
        "    [[\"h\"], [\"h\", \"i\"], [\"j\"]],\n",
        "    [[\"h\"], [\"i\"], [\"j\"], [\"k\"]]\n",
        "]\n",
        "    \n",
        "result = aprioriall.apriori(dataset, 2, verbose=False)\n",
        "aprioriall.filterMaximal(result)\n",
        "print(result)\n",
        "result = aprioriall.apriori(dataset, 2, verbose=False)\n",
        "aprioriall.filterClosed(result)\n",
        "print(result)"
      ],
      "execution_count": null,
      "outputs": []
    },
    {
      "cell_type": "markdown",
      "metadata": {
        "id": "Z-rUEYVE0usT"
      },
      "source": [
        "Running aprioriall: aprioriall.apriori (nameofthedataset, support=number of minimal occurrences, verbose={false/true})"
      ]
    },
    {
      "cell_type": "code",
      "metadata": {
        "ExecuteTime": {
          "end_time": "2020-09-07T17:36:24.078365Z",
          "start_time": "2020-09-07T17:36:24.044543Z"
        },
        "id": "njVkd8EA0usU"
      },
      "source": [
        "aprioriall.apriori(dataset, 2, verbose=False)"
      ],
      "execution_count": null,
      "outputs": []
    },
    {
      "cell_type": "markdown",
      "metadata": {
        "id": "7WDzurVt0usV"
      },
      "source": [
        "Get the maximal sequential patterns"
      ]
    },
    {
      "cell_type": "code",
      "metadata": {
        "ExecuteTime": {
          "end_time": "2020-09-07T17:36:24.108106Z",
          "start_time": "2020-09-07T17:36:24.084018Z"
        },
        "id": "ZVaCbWS00usV"
      },
      "source": [
        "result = aprioriall.apriori(dataset, 2, verbose=False)\n",
        "aprioriall.filterMaximal(result)\n",
        "print(result)"
      ],
      "execution_count": null,
      "outputs": []
    },
    {
      "cell_type": "markdown",
      "metadata": {
        "id": "odltfCah0usW"
      },
      "source": [
        "Get the closed sequential patterns"
      ]
    },
    {
      "cell_type": "code",
      "metadata": {
        "ExecuteTime": {
          "end_time": "2020-09-07T17:36:24.130319Z",
          "start_time": "2020-09-07T17:36:24.113434Z"
        },
        "id": "rxEiD7Yj0usW"
      },
      "source": [
        "result = aprioriall.apriori(dataset, 2, verbose=False)\n",
        "aprioriall.filterClosed(result)\n",
        "print(result)"
      ],
      "execution_count": null,
      "outputs": []
    },
    {
      "cell_type": "markdown",
      "metadata": {
        "id": "b94EqV6G0usW"
      },
      "source": [
        "## The PrefixSpan algorithm"
      ]
    },
    {
      "cell_type": "code",
      "metadata": {
        "ExecuteTime": {
          "end_time": "2020-09-07T17:36:24.144942Z",
          "start_time": "2020-09-07T17:36:24.134577Z"
        },
        "id": "CNRalUgJ0usW"
      },
      "source": [
        "import prefixspan\n",
        "from prefixspan import PrefixSpan"
      ],
      "execution_count": null,
      "outputs": []
    },
    {
      "cell_type": "code",
      "metadata": {
        "ExecuteTime": {
          "end_time": "2020-09-07T17:36:24.162774Z",
          "start_time": "2020-09-07T17:36:24.148815Z"
        },
        "id": "PKJmvv6G0usX"
      },
      "source": [
        "\n",
        "dataset =  [\n",
        "    [0, 1, 2, 3, 4],\n",
        "    [1, 1, 1, 3, 4],\n",
        "    [2, 1, 2, 2, 0],\n",
        "    [1, 1, 1, 2, 2]\n",
        "]"
      ],
      "execution_count": null,
      "outputs": []
    },
    {
      "cell_type": "code",
      "metadata": {
        "ExecuteTime": {
          "end_time": "2020-09-07T17:36:24.186594Z",
          "start_time": "2020-09-07T17:36:24.166701Z"
        },
        "id": "ZVKbSmGA0usY"
      },
      "source": [
        "# create a prefixspan object\n",
        "ps = PrefixSpan(dataset)"
      ],
      "execution_count": null,
      "outputs": []
    },
    {
      "cell_type": "markdown",
      "metadata": {
        "id": "Fpx92R090usY"
      },
      "source": [
        "Get the sequential patterns"
      ]
    },
    {
      "cell_type": "code",
      "metadata": {
        "ExecuteTime": {
          "end_time": "2020-09-07T17:36:24.204354Z",
          "start_time": "2020-09-07T17:36:24.191378Z"
        },
        "id": "oW8uew_C0usY"
      },
      "source": [
        "print(ps.frequent(2))\n"
      ],
      "execution_count": null,
      "outputs": []
    },
    {
      "cell_type": "markdown",
      "metadata": {
        "id": "cISlE9P-5dfb"
      },
      "source": [
        "Get the top-k"
      ]
    },
    {
      "cell_type": "code",
      "metadata": {
        "id": "UmQOQ8GP5fvY"
      },
      "source": [
        "print(ps.topk(5))"
      ],
      "execution_count": null,
      "outputs": []
    },
    {
      "cell_type": "markdown",
      "metadata": {
        "id": "CswSZAkS0usY"
      },
      "source": [
        "Get the closed sequential patterns"
      ]
    },
    {
      "cell_type": "code",
      "metadata": {
        "ExecuteTime": {
          "end_time": "2020-09-07T17:36:24.236584Z",
          "start_time": "2020-09-07T17:36:24.207477Z"
        },
        "id": "n71ILh8V0usY"
      },
      "source": [
        "print(ps.frequent(2, closed=True))"
      ],
      "execution_count": null,
      "outputs": []
    }
  ]
}