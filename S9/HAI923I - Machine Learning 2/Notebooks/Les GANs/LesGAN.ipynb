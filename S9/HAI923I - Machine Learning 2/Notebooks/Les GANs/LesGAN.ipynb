{
  "nbformat": 4,
  "nbformat_minor": 0,
  "metadata": {
    "colab": {
      "provenance": []
    },
    "kernelspec": {
      "name": "python3",
      "display_name": "Python 3"
    },
    "language_info": {
      "name": "python"
    },
    "accelerator": "GPU"
  },
  "cells": [
    {
      "cell_type": "markdown",
      "source": [
        "L'objectif de ce notebook est d'illustrer le principe des GAN (*Generative Adversarial Networks*). Le GAN est un échange entre deux réseaux :    \n",
        "* Le générateur : son objectif est à partir de données aléatoires de générer des images qui sont le plus similaires possibles d'un jeu de données\n",
        "* Le discriminteur : son objectif est de parer les fausses images générées et d'éviter que celles-ci soient considérées comme vraies.     \n",
        "\n",
        "Les deux réseaux vont donc chacun faire en sorte de gagner : le générateur va essayer de générer des images les plus vraisemblables et le discriminateur va essayer de voir si les images générées sont vraies ou fausses.   \n",
        "\n",
        "Le principe est résumé sur la figure suivante :      \n",
        "\n",
        "<IMG SRC=\"http://www.lirmm.fr/~poncelet/Ressources/ArchitectureGAN\n",
        "\" align=\"center\" >\n",
        "\n",
        "A partir de données aléatoires, i.e. Random Noise, le générateur va générer des données. Ces dernières sont combinées à des données réelles et sont envoyées dans le discriminateur. L'objectif du discriminateur est alors de déterminer s'il s'agit de données réelles ou de fausses données. Il fait une classification binaire : données réelles ou données fausses. Bien entendu le générateur fait en sorte que les données générées aient le même label que les données réelles.    \n",
        "\n",
        "De manière à générer des données assez similaires aux réelles, le principe est le suivant : l'erreur à la fin du discriminateur est reportée au niveau du générateur afin qu'il mette ses poids à jour ... donc au fur et à mesure des epochs, la loss est projetée vers le générateur. Par contre il faut faire attention à ne pas projeter l'erreur du générateur à l'issue du modèle GAN au niveau du discriminateur ! toutes ces étapes sont illustrées par la suite.\n"
      ],
      "metadata": {
        "id": "W4bhs0ec9nNB"
      }
    },
    {
      "cell_type": "markdown",
      "source": [
        "## Installation"
      ],
      "metadata": {
        "id": "GyJfp8-VJtoX"
      }
    },
    {
      "cell_type": "markdown",
      "source": [
        "Avant de commencer, il est nécessaire de déjà posséder dans son environnement toutes les librairies utiles. Dans la seconde cellule nous importons toutes les librairies qui seront utiles à ce notebook. Il se peut que, lorsque vous lanciez l'éxecution de cette cellule, une soit absente. Dans ce cas il est nécessaire de l'installer. Pour cela dans la cellule suivante utiliser la commande :\n",
        "! pip install nom_librairie\n",
        "Attention : il est fortement conseillé lorsque l'une des librairies doit être installer de relancer le kernel de votre notebook.\n",
        "Remarque : même si toutes les librairies sont importées dès le début, les librairies utiles pour des fonctions présentées au cours de ce notebook sont ré-importées de manière à indiquer d'où elles viennent et ainsi faciliter la réutilisation de la fonction dans un autre projet."
      ],
      "metadata": {
        "id": "4H91x_RvJuUl"
      }
    },
    {
      "cell_type": "code",
      "source": [
        "# utiliser cette cellule pour installer les librairies manquantes\n",
        "# pour cela il suffit de taper dans cette cellule : !pip install nom_librairie_manquante\n",
        "# d'exécuter la cellule et de relancer la cellule suivante pour voir si tout se passe bien\n",
        "# recommencer tant que toutes les librairies ne sont pas installées ..."
      ],
      "metadata": {
        "id": "GO7owGQDJu7c"
      },
      "execution_count": null,
      "outputs": []
    },
    {
      "cell_type": "code",
      "source": [
        "import numpy as np\n",
        "from numpy import expand_dims\n",
        "from numpy import zeros\n",
        "from numpy import ones\n",
        "from numpy import vstack\n",
        "from numpy.random import randn\n",
        "from numpy.random import randint\n",
        "from keras.datasets.mnist import load_data\n",
        "from tensorflow.keras.optimizers import Adam\n",
        "from keras.models import Sequential\n",
        "from keras.layers import Dense\n",
        "from keras.layers import Reshape\n",
        "from keras.layers import Flatten\n",
        "from keras.layers import Conv2D\n",
        "from keras.layers import Conv2DTranspose\n",
        "from keras.layers import LeakyReLU\n",
        "from keras.layers import Dropout\n",
        "from matplotlib import pyplot\n",
        "from tensorflow.keras.layers import Dense, BatchNormalization\n",
        "import tensorflow as tf\n",
        "import matplotlib.pyplot as plt\n",
        "from keras.models import load_model\n"
      ],
      "metadata": {
        "id": "WWBr8C3wLlll"
      },
      "execution_count": 1,
      "outputs": []
    },
    {
      "cell_type": "code",
      "source": [
        "# pour monter son drive Google Drive local\n",
        "from google.colab import drive\n",
        "drive.mount('/content/gdrive')"
      ],
      "metadata": {
        "colab": {
          "base_uri": "https://localhost:8080/",
          "height": 0
        },
        "id": "WK-phCWFLmI1",
        "outputId": "0bec1088-d3e8-4d91-a6ee-ea486311656b"
      },
      "execution_count": 2,
      "outputs": [
        {
          "output_type": "stream",
          "name": "stdout",
          "text": [
            "Mounted at /content/gdrive\n"
          ]
        }
      ]
    },
    {
      "cell_type": "code",
      "source": [
        "import sys\n",
        "my_local_drive='/content/gdrive/My Drive/Colab Notebooks/ML2_2023_2024'\n",
        "# Ajout du path pour les librairies, fonctions et données\n",
        "sys.path.append(my_local_drive)\n",
        "# Se positionner sur le répertoire associé\n",
        "%cd $my_local_drive\n",
        "\n",
        "%pwd"
      ],
      "metadata": {
        "colab": {
          "base_uri": "https://localhost:8080/",
          "height": 53
        },
        "id": "2ibLMr23L2r2",
        "outputId": "5d8e7313-5ac8-4741-93ba-b4388885025a"
      },
      "execution_count": 3,
      "outputs": [
        {
          "output_type": "stream",
          "name": "stdout",
          "text": [
            "/content/gdrive/My Drive/Colab Notebooks/ML2_2023_2024\n"
          ]
        },
        {
          "output_type": "execute_result",
          "data": {
            "text/plain": [
              "'/content/gdrive/My Drive/Colab Notebooks/ML2_2023_2024'"
            ],
            "application/vnd.google.colaboratory.intrinsic+json": {
              "type": "string"
            }
          },
          "metadata": {},
          "execution_count": 3
        }
      ]
    },
    {
      "cell_type": "markdown",
      "source": [
        "Tout d'abord nous allons créer un générateur. Celui-ci va prendre en entrée un vecteur de données générées aléatoirement de taille latent_dim. Généralement latent_dim est mis à 100 mais d'autres valeurs sont bien sûr possibles. Il suffit après de mettre au bon format. Pour le générer nous utiliserons par exemple  :   \n",
        "\n",
        "    np.random.randn(latent_dim * nombre d'exemples) ou np.random.normal(0,1, latent_dim)   \n",
        "\n",
        "Il va donc falloir traduire ce vecteur en tableau 2D de 28x28 (784 valeurs) à la sortie du générateur, i.e. il s'agit d'une image qui sera passé au discriminateur. Pour simplifier nous considérons que la couche d'entrée est une couche dense (il est possible de rentrer directement sur une convolution en transformant d'abord le vecteur d'entrée). Pour déterminer le nombre de neurones de la couche dense L'entrée du générateur étant un vecteur, nous allons utiliser une couche dense. Il existe plusieurs moyens de déterminer le nombre de neurones de cette couche d'entrée.  \n",
        "\n",
        "Ici nous allons utiliser du sur-échantillonage (*Conv2DTranspose*): l'idée est de ne générer qu'une partie de l'image et après de la dupliquer. Pour cela nous savons que la moitié d'une image fait 14×14 (soit 196 neurones), pour un quart de l'image nous avons donc 7x7 (49 neurones). Nous avons vu que les convolutions vont rechercher des motifs dans des images. Avec 49 neurones nous ne permettrons pas de faire de la convolution alors nous allons multiplier par un nombre qui permettent au réseau de faire des convolutions (en gros nous permettons d'avoir plusieurs images). Par exemple ici nous prenons 128 mais nous aurions pu mettre 256.   \n",
        "\n",
        "Notre réseau au début va ressembler à  :   \n",
        "\n",
        "    model = Sequential()\n",
        "    # On considère 1/4 de l'image (7x7)\n",
        "    # On multiplie par 128\n",
        "    # le nombre de neurones est donc\n",
        "\t  n_nodes = 128 * 7 * 7\n",
        "\t  model.add(Dense(n_nodes, input_dim=latent_dim))\n",
        "    # Nous avons besoin d'une fonction d'activation\n",
        "    # ici nous prenons LeakyRely (à la place de 0 comme dans\n",
        "    # Relu, la valeur retournée sera alpha) qui évite des problèmes de mort de neurones\n",
        "\t  model.add(LeakyReLU(alpha=0.2))\n",
        "    \n",
        "    \n",
        "Par la suite nous allons faire passer cette couche vers une convolution, pour cela il est nécessaire de changer le shape de la couche de sortie :  \n",
        "\n",
        "    model.add(reshape((7,7,128))  \n",
        "\n",
        "Il ne reste plus qu'à agrandir l'image (sur-échantillonage) avec la fonction Conv2DTranspose. Elle ressemble à une convolution normale et le stride (2x2) permet de quadrupler l'image (double la hauteur et la largeur)  :      \n",
        "\n",
        "    model.add(Conv2DTranspose(128, (4,4), strides=(2,2), padding='same'))\n",
        "\tmodel.add(LeakyReLU(alpha=0.2))\n",
        "    # ici la sortie de l'image sera de 14x14 il faut le refaire pour avoir une image de taille 28x28\n",
        "    model.add(Conv2DTranspose(128, (4,4), strides=(2,2), padding='same'))\n",
        "\tmodel.add(LeakyReLU(alpha=0.2))\n",
        "\n",
        "\n",
        "Il suffit à la fin de mettre une couche de sortie avec une sigmoid ou une autre fonction d'activation comme tanh (pour avoir des valeurs comprises entre 0 et 1). Ici nous avons un seul feature map en sortie Attention ne pas mettre un softmax car lors de la rétro-propagation du gradient le softmax ne se dérive pas simplement (c'est pourquoi la génération de textes est plus compliquée avec des GAN !).    \n",
        "\n",
        "    model.add(Conv2D(1, (7,7), activation='sigmoid',   padding='same'))   \n",
        "\n",
        "Remarque nous aurions pu finir au second Conv2Dtranspose qui possède une sortie de la bonne taille : 28x28 et simplement mettre une fonction d'activation tanh dans la convolution.\n",
        "\n"
      ],
      "metadata": {
        "id": "gA_6j26z-Lrc"
      }
    },
    {
      "cell_type": "code",
      "source": [
        "# Chargement des données\n",
        "def load_data():\n",
        "  fashion_mnist = tf.keras.datasets.fashion_mnist\n",
        "  (X_trainX, _), (_, _) = fashion_mnist.load_data()\n",
        "  # Ajout d'une dimension pour le canal (1)\n",
        "  X = expand_dims(trainX, axis=-1)\n",
        "  # Normalisation\n",
        "  X = X.astype('float32')\n",
        "  # scale from [0,255] to [0,1]\n",
        "  X = X / 255.0\n",
        "  return X"
      ],
      "metadata": {
        "id": "KJmg7uj8G7C0"
      },
      "execution_count": 4,
      "outputs": []
    },
    {
      "cell_type": "markdown",
      "source": [
        "La fonction ci-dessous reprend le générateur. Nous avons ajouté des BatchNormalization pour faciliter l'apprentissage :"
      ],
      "metadata": {
        "id": "00NRlbjQ1xv2"
      }
    },
    {
      "cell_type": "code",
      "source": [
        "def create_generator(latent_dim=100):\n",
        "  model = Sequential()\n",
        "\t# 1/4 de l'image (7x7) * nombre d'images possibles\n",
        "  n_nodes = 128 * 7 * 7\n",
        "  model.add(Dense(n_nodes, input_dim=latent_dim))\n",
        "  model.add(BatchNormalization())\n",
        "  model.add(LeakyReLU(alpha=0.2))\n",
        "  model.add(Reshape((7, 7, 128)))\n",
        "  # upsample to 14x14\n",
        "  model.add(Conv2DTranspose(128, (4,4), strides=(2,2), padding='same'))\n",
        "  model.add(BatchNormalization())\n",
        "  model.add(LeakyReLU(alpha=0.2))\n",
        "  # upsample to 28x28\n",
        "  model.add(Conv2DTranspose(128, (4,4), strides=(2,2), padding='same'))\n",
        "  model.add(BatchNormalization())\n",
        "  model.add(LeakyReLU(alpha=0.2))\n",
        "  model.add(Conv2D(1, (7,7), activation='sigmoid', padding='same'))\n",
        "  opt = Adam(learning_rate=0.0002, beta_1=0.5)\n",
        "  model.compile(loss='binary_crossentropy', optimizer=opt, metrics=['accuracy'])\n",
        "  return model"
      ],
      "metadata": {
        "id": "hxbNmxdl97xw"
      },
      "execution_count": 5,
      "outputs": []
    },
    {
      "cell_type": "markdown",
      "source": [
        "La définition de la partie du générateur est :        "
      ],
      "metadata": {
        "id": "0Gvzy3-6rde-"
      }
    },
    {
      "cell_type": "code",
      "source": [
        "generator_model=create_generator()\n",
        "generator_model.summary()"
      ],
      "metadata": {
        "colab": {
          "base_uri": "https://localhost:8080/",
          "height": 0
        },
        "id": "tM3vrT40rmC5",
        "outputId": "8b5f8304-0609-46a1-f115-698f95e1b101"
      },
      "execution_count": 6,
      "outputs": [
        {
          "output_type": "stream",
          "name": "stdout",
          "text": [
            "Model: \"sequential\"\n",
            "_________________________________________________________________\n",
            " Layer (type)                Output Shape              Param #   \n",
            "=================================================================\n",
            " dense (Dense)               (None, 6272)              633472    \n",
            "                                                                 \n",
            " batch_normalization (BatchN  (None, 6272)             25088     \n",
            " ormalization)                                                   \n",
            "                                                                 \n",
            " leaky_re_lu (LeakyReLU)     (None, 6272)              0         \n",
            "                                                                 \n",
            " reshape (Reshape)           (None, 7, 7, 128)         0         \n",
            "                                                                 \n",
            " conv2d_transpose (Conv2DTra  (None, 14, 14, 128)      262272    \n",
            " nspose)                                                         \n",
            "                                                                 \n",
            " batch_normalization_1 (Batc  (None, 14, 14, 128)      512       \n",
            " hNormalization)                                                 \n",
            "                                                                 \n",
            " leaky_re_lu_1 (LeakyReLU)   (None, 14, 14, 128)       0         \n",
            "                                                                 \n",
            " conv2d_transpose_1 (Conv2DT  (None, 28, 28, 128)      262272    \n",
            " ranspose)                                                       \n",
            "                                                                 \n",
            " batch_normalization_2 (Batc  (None, 28, 28, 128)      512       \n",
            " hNormalization)                                                 \n",
            "                                                                 \n",
            " leaky_re_lu_2 (LeakyReLU)   (None, 28, 28, 128)       0         \n",
            "                                                                 \n",
            " conv2d (Conv2D)             (None, 28, 28, 1)         6273      \n",
            "                                                                 \n",
            "=================================================================\n",
            "Total params: 1,190,401\n",
            "Trainable params: 1,177,345\n",
            "Non-trainable params: 13,056\n",
            "_________________________________________________________________\n"
          ]
        }
      ]
    },
    {
      "cell_type": "markdown",
      "source": [
        "Nous pouvons tester le générateur pour voir un exemple d'image générée :     "
      ],
      "metadata": {
        "id": "K3LjJHqmaRtL"
      }
    },
    {
      "cell_type": "code",
      "source": [
        "latent_dim=100\n",
        "generator = create_generator()\n",
        "noise=tf.random.normal([1,latent_dim])\n",
        "generated_image = generator (noise, training=False)\n",
        "plt.imshow (generated_image[0, :, :, 0], cmap='gray')"
      ],
      "metadata": {
        "colab": {
          "base_uri": "https://localhost:8080/",
          "height": 448
        },
        "id": "-T_WPQe5YjNB",
        "outputId": "c6a80076-f0d7-42c6-9e58-b1037cb26a72"
      },
      "execution_count": 7,
      "outputs": [
        {
          "output_type": "execute_result",
          "data": {
            "text/plain": [
              "<matplotlib.image.AxesImage at 0x7dbea41876d0>"
            ]
          },
          "metadata": {},
          "execution_count": 7
        },
        {
          "output_type": "display_data",
          "data": {
            "text/plain": [
              "<Figure size 640x480 with 1 Axes>"
            ],
            "image/png": "[encoded data removed]"
          },
          "metadata": {}
        }
      ]
    },
    {
      "cell_type": "markdown",
      "source": [
        "Le discriminateur est un CNN assez classique dans lequel en entrée il a des images de taille 28x28 et en sortie il possède un neurone avec comme fonction d'activation une sigmoid afin de déterminer s'il s'agit d'une image réelle ou générée."
      ],
      "metadata": {
        "id": "E6BjQLREacDQ"
      }
    },
    {
      "cell_type": "code",
      "source": [
        "def create_discriminator():\n",
        "  model = Sequential()\n",
        "  model.add(Conv2D(64, (3,3), strides=(2, 2), padding='same', input_shape=[28,28,1]))\n",
        "  model.add(LeakyReLU(alpha=0.2))\n",
        "  model.add(Dropout(0.3))\n",
        "  model.add(Conv2D(64, (3,3), strides=(2, 2), padding='same'))\n",
        "  model.add(LeakyReLU(alpha=0.2))\n",
        "  model.add(Dropout(0.3))\n",
        "  model.add(Flatten())\n",
        "  model.add(Dense(1, activation='sigmoid'))\n",
        "  opt = Adam(learning_rate=0.0002, beta_1=0.5)\n",
        "  model.compile(loss='binary_crossentropy', optimizer=opt, metrics=['accuracy'])\n",
        "  return model"
      ],
      "metadata": {
        "id": "yCWEZBu7bB9J"
      },
      "execution_count": 8,
      "outputs": []
    },
    {
      "cell_type": "markdown",
      "source": [
        "Le modèle pour le discriminateur est :       "
      ],
      "metadata": {
        "id": "i3JMnDQjrCVP"
      }
    },
    {
      "cell_type": "code",
      "source": [
        "model_discriminator=create_discriminator()\n",
        "model_discriminator.summary()"
      ],
      "metadata": {
        "colab": {
          "base_uri": "https://localhost:8080/",
          "height": 0
        },
        "id": "iM4Zmbm7rNUt",
        "outputId": "1b06c4f7-9002-4c5b-e654-df361ed9f158"
      },
      "execution_count": 9,
      "outputs": [
        {
          "output_type": "stream",
          "name": "stdout",
          "text": [
            "Model: \"sequential_2\"\n",
            "_________________________________________________________________\n",
            " Layer (type)                Output Shape              Param #   \n",
            "=================================================================\n",
            " conv2d_2 (Conv2D)           (None, 14, 14, 64)        640       \n",
            "                                                                 \n",
            " leaky_re_lu_6 (LeakyReLU)   (None, 14, 14, 64)        0         \n",
            "                                                                 \n",
            " dropout (Dropout)           (None, 14, 14, 64)        0         \n",
            "                                                                 \n",
            " conv2d_3 (Conv2D)           (None, 7, 7, 64)          36928     \n",
            "                                                                 \n",
            " leaky_re_lu_7 (LeakyReLU)   (None, 7, 7, 64)          0         \n",
            "                                                                 \n",
            " dropout_1 (Dropout)         (None, 7, 7, 64)          0         \n",
            "                                                                 \n",
            " flatten (Flatten)           (None, 3136)              0         \n",
            "                                                                 \n",
            " dense_2 (Dense)             (None, 1)                 3137      \n",
            "                                                                 \n",
            "=================================================================\n",
            "Total params: 40,705\n",
            "Trainable params: 40,705\n",
            "Non-trainable params: 0\n",
            "_________________________________________________________________\n"
          ]
        }
      ]
    },
    {
      "cell_type": "markdown",
      "source": [
        "Même s'il n'a pas encore appris on peut le tester sur l'image générée précédente :    "
      ],
      "metadata": {
        "id": "I8IDpGSnbnGJ"
      }
    },
    {
      "cell_type": "code",
      "source": [
        "discriminator=create_discriminator()\n",
        "prediction=discriminator(generated_image)\n",
        "print (prediction)"
      ],
      "metadata": {
        "colab": {
          "base_uri": "https://localhost:8080/",
          "height": 0
        },
        "id": "BLltp5PXhFNF",
        "outputId": "e8b7b352-711d-4b04-b914-874f1280512a"
      },
      "execution_count": 10,
      "outputs": [
        {
          "output_type": "stream",
          "name": "stdout",
          "text": [
            "tf.Tensor([[0.50553757]], shape=(1, 1), dtype=float32)\n"
          ]
        }
      ]
    },
    {
      "cell_type": "markdown",
      "source": [
        "Nous pouvons le tester sur les images de Fashion Mnist pour voir si le modèle est capable de bien apprendre. Pour cela il faut définir quelques fonctions utiles :     "
      ],
      "metadata": {
        "id": "pWW2EXchizAn"
      }
    },
    {
      "cell_type": "code",
      "source": [
        "# Chargement et normalisation des données\n",
        "def load_data():\n",
        "  fashion_mnist = tf.keras.datasets.fashion_mnist\n",
        "  (X_train, _), (_, _) = fashion_mnist.load_data()\n",
        "\n",
        "  # Ajout d'une dimension pour le canal (1)\n",
        "  X = expand_dims(X_train, axis=-1)\n",
        "  # Normalisation\n",
        "  X = X.astype('float32')\n",
        "  X = X / 255.0\n",
        "  return X\n",
        "\n",
        "# Creation d'un jeu de données de vraies images\n",
        "# les vraies images sont labélisées avec 1\n",
        "def generate_real_samples(dataset, nb_images):\n",
        "\t# tirage aléatoire\n",
        "\tix = randint(0, dataset.shape[0], nb_images)\n",
        "\t# sélection des images\n",
        "\tX = dataset[ix]\n",
        "\t# mettre 1 comme label de classe\n",
        "\ty = ones((nb_images, 1))\n",
        "\treturn X, y\n",
        "\n",
        "# Création d'un faux jeu de données\n",
        "# elles seront labélisées avec 0\n",
        "def generate_fake_samples(nb_images):\n",
        "  # generation de nombres aléatoires entre 0 et 1\n",
        "  # attention ici on simplifie en mettant la taille de l'image\n",
        "  # normalement il faut prendre latent_dim\n",
        "  X = np.random.rand(28 * 28 * nb_images)\n",
        "  # reshape en images grises\n",
        "  X = X.reshape((nb_images, 28, 28, 1))\n",
        "  # mettre 0 comme label de classe\n",
        "  y = zeros((nb_images, 1))\n",
        "  return X, y"
      ],
      "metadata": {
        "id": "iEcxTuMnbtpj"
      },
      "execution_count": 11,
      "outputs": []
    },
    {
      "cell_type": "markdown",
      "source": [
        "Contrairement à ce que nous faisons d'habitude nous n'allons pas faire un fit mais construire l'entraînement du modèle. En d'autres termes nous ré-écrivons la fonction *fit*. Pour cela il faut boucler sur le nombre d'epochs (en fait ici il ne s'agit pas vraiment d'epoch car nous ne lançons qu'un batch par passage dans la boucle et non pas un passage sur l'ensemble du jeu de données) et lancer l'entraînement du modèle par batch. Ici nous envoyons au modèle un batch d'images réelles puis un batch de fausses images (elles sont de la même qualité que l'image précédente) car il n'y a aucun report de l'erreur sur le générateur. Cela nous permet d'évaluer l'accuracy du modèle pour les vraies et fausses images.   \n",
        "\n",
        "Nous utilisons la méthode *train_on_batch*. L'avantage de cette méthode est qu'elle va mettre à jour l'ensemble des poids en fonction des données que nous lui fournissons. Elle est par exemple utilisée lorsque vous avez déjà un modèle appris et que vous récupérez des données que vous n'avez jamais vu : elle va adapter les poids de votre modèle entraîné pour prendre en considération ces nouvelles données.  *fit* permet de considérer tout le jeu de données et parfois il est bien utile de pouvoir mettre à jour un modèle uniquement sur des nouvelles données et ne pas relancer l'apprentissage complet en intégrant les nouvelles données."
      ],
      "metadata": {
        "id": "Ogti3Y2nfG9b"
      }
    },
    {
      "cell_type": "code",
      "source": [
        "# train the discriminator model\n",
        "def train_discriminator(model, dataset, epochs=100, batchsize=256):\n",
        "  # on constitue un jeu de données de batchsize/2 images réelles et images fausses\n",
        "\thalf_batch = int(batchsize / 2)\n",
        "\t# boucler sur les epochs\n",
        "\tfor i in range(epochs):\n",
        "\t\t# sélection d'images réelles\n",
        "\t\tX_real, y_real = generate_real_samples(dataset, half_batch)\n",
        "\t\t# mettre à jour le discriminateur avec les images réelles\n",
        "\t\t_, real_acc = model.train_on_batch(X_real, y_real)\n",
        "\t\t# generation de fausses images\n",
        "\t\tX_fake, y_fake = generate_fake_samples(half_batch)\n",
        "\t\t# mise à jour du discriminateur avec de fausses images\n",
        "\t\t_, fake_acc = model.train_on_batch(X_fake, y_fake)\n",
        "\t\t# Affichage des résultats pour l'accuracy des vraies et des fausses\n",
        "\t\tprint('>%d accuracy_real=%.0f%% accuracy_fake=%.0f%%' % (i+1, real_acc*100, fake_acc*100))"
      ],
      "metadata": {
        "id": "Wm_ITGORfHqP"
      },
      "execution_count": 12,
      "outputs": []
    },
    {
      "cell_type": "markdown",
      "source": [
        "Il suffit à présent de lancer le modèle :    \n",
        "\n",
        "**Remarque** ici on met un nombre d'epochs faible (**pensons CO2**) c'est juste pour voir si l'accuracy augmente bien. Si vous mettez un nombre d'epochs à 100 vous verrez que le modèle arrive à 100% pour les deux : il est capable de faire la distinction entre les vraies images et les fausses."
      ],
      "metadata": {
        "id": "pJNNb4pkf6R_"
      }
    },
    {
      "cell_type": "code",
      "source": [
        "nb_images_total=256 # 128 images de chaque classe\n",
        "epochs=10\n",
        "\n",
        "# chargement du modèle\n",
        "model = create_discriminator()\n",
        "\n",
        "\n",
        "# chargement des données\n",
        "dataset=load_data()\n",
        "\n",
        "# lancement de l'entrainement du discriminateur\n",
        "train_discriminator(model, dataset, epochs, nb_images_total)"
      ],
      "metadata": {
        "colab": {
          "base_uri": "https://localhost:8080/",
          "height": 0
        },
        "id": "zXimkMRSf62K",
        "outputId": "352f824c-980c-4239-d5ec-83192c21d356"
      },
      "execution_count": 13,
      "outputs": [
        {
          "output_type": "stream",
          "name": "stdout",
          "text": [
            "Downloading data from https://storage.googleapis.com/tensorflow/tf-keras-datasets/train-labels-idx1-ubyte.gz\n",
            "29515/29515 [==============================] - 0s 0us/step\n",
            "Downloading data from https://storage.googleapis.com/tensorflow/tf-keras-datasets/train-images-idx3-ubyte.gz\n",
            "26421880/26421880 [==============================] - 0s 0us/step\n",
            "Downloading data from https://storage.googleapis.com/tensorflow/tf-keras-datasets/t10k-labels-idx1-ubyte.gz\n",
            "5148/5148 [==============================] - 0s 0us/step\n",
            "Downloading data from https://storage.googleapis.com/tensorflow/tf-keras-datasets/t10k-images-idx3-ubyte.gz\n",
            "4422102/4422102 [==============================] - 0s 0us/step\n",
            ">1 accuracy_real=45% accuracy_fake=9%\n",
            ">2 accuracy_real=57% accuracy_fake=23%\n",
            ">3 accuracy_real=70% accuracy_fake=23%\n",
            ">4 accuracy_real=67% accuracy_fake=47%\n",
            ">5 accuracy_real=62% accuracy_fake=50%\n",
            ">6 accuracy_real=64% accuracy_fake=77%\n",
            ">7 accuracy_real=62% accuracy_fake=77%\n",
            ">8 accuracy_real=65% accuracy_fake=91%\n",
            ">9 accuracy_real=60% accuracy_fake=94%\n",
            ">10 accuracy_real=62% accuracy_fake=99%\n"
          ]
        }
      ]
    },
    {
      "cell_type": "markdown",
      "source": [
        "Maintenant que nous avons testé le générateur et le discriminateur, nous pouvons construire le GAN. Celui-ci va prendre une partie générateur et une partie discriminateur. Attention il est important de reporter l'erreur de la sortie du discriminateur vers le générateur pour que celui-ci puisse modifier ses poids et améliorer l'image. De la même manière l'objectif ici n'est pas de modifier les poids du discriminateur mais plutôt d'envoyer vers l'arrière, i.e. le générateur, la descente de gradient. Pour cela on empêche le modèle d'apprendre le poids de l'erreur du GAN sur le discriminateur.   \n",
        "\n",
        "**Remarque** : si le discriminateur ne met pas à jour ses poids comment peut il s'améliorer alors qu'au départ les poids du discriminateur sont aléatoires ? **ce qu'il faut comprendre** la réponse à cette question est tout simplement dans l'utilisation de la méthode *train_on_batch*. Ce que nous voulons ici c'est que ce soit le generateur qui mette à jour ses poids. Par contre comme nous avons vu dans la fonction *train_discriminateur* en passant par *train_on_batch* les poids du discriminateur seront automatiquement mis à jour mais pas les erreurs remontées par le GAN.\n"
      ],
      "metadata": {
        "id": "AYcoaMpflNsI"
      }
    },
    {
      "cell_type": "code",
      "source": [
        "def create_gan(generator_model, discriminator_model):\n",
        "  # mettre les poids du discriminateur non entrable\n",
        "  discriminator_model.trainable = False\n",
        "  # un seul modele qui regroupe\n",
        "  model = Sequential()\n",
        "  # ajout du générateur\n",
        "  model.add(generator_model)\n",
        "  # ajout du discriminateur\n",
        "  model.add(discriminator_model)\n",
        "\n",
        "  opt = Adam(learning_rate=0.0003, beta_1=0.5)\n",
        "  model.compile(loss='binary_crossentropy', optimizer=opt)\n",
        "  return model"
      ],
      "metadata": {
        "id": "FhdlTkisl9wY"
      },
      "execution_count": 14,
      "outputs": []
    },
    {
      "cell_type": "markdown",
      "source": [
        "Le modèle GAN final ressemble à ceci :"
      ],
      "metadata": {
        "id": "gsvgFVWstDHW"
      }
    },
    {
      "cell_type": "code",
      "source": [
        "latent_dim = 100\n",
        "\n",
        "# creation du générateur\n",
        "generator_model = create_generator(latent_dim)\n",
        "# creation du discriminateur\n",
        "discriminator_model = create_discriminator()\n",
        "\n",
        "# creation du gan\n",
        "gan_model = create_gan(generator_model, discriminator_model)\n",
        "\n",
        "gan_model.summary()\n",
        "\n"
      ],
      "metadata": {
        "colab": {
          "base_uri": "https://localhost:8080/",
          "height": 0
        },
        "id": "w8nqyBkUtEDN",
        "outputId": "479345a1-1458-4b87-8afa-52981e32803e"
      },
      "execution_count": 15,
      "outputs": [
        {
          "output_type": "stream",
          "name": "stdout",
          "text": [
            "Model: \"sequential_7\"\n",
            "_________________________________________________________________\n",
            " Layer (type)                Output Shape              Param #   \n",
            "=================================================================\n",
            " sequential_5 (Sequential)   (None, 28, 28, 1)         1190401   \n",
            "                                                                 \n",
            " sequential_6 (Sequential)   (None, 1)                 40705     \n",
            "                                                                 \n",
            "=================================================================\n",
            "Total params: 1,231,106\n",
            "Trainable params: 1,177,345\n",
            "Non-trainable params: 53,761\n",
            "_________________________________________________________________\n"
          ]
        }
      ]
    },
    {
      "cell_type": "markdown",
      "source": [
        "Avant de finaliser l'entraînement du générateur et du discriminateur puis du GAN, nous définissons quelques fonctions utiles dans un contexte plus général que précédemment. Une fonction *generate_latent_points*pour générer dees données (i.e. pour générer un vecteur) aléatoires, une fonction pour génerer de fausses images, *generate_fake_samples_for_generator* dont l'objectif est à partir de points latent de prédire le résultat, i.e la sortie du modèle pour cela on prédit la sortie associée à une entrée aléatoire, une fonction *save_plot* qui affiche à différentes epochs les images générées, une fonction *evaluate_model* qui simule l'évaluation d'un jeu de test (i.e. le jeu de données validation dans un fit). Cette dernière n'est pas appelée à toutes les étapes pour gagner du temps.  "
      ],
      "metadata": {
        "id": "EOmz4xHPs3RH"
      }
    },
    {
      "cell_type": "code",
      "source": [
        "\n",
        "def generate_latent_points (latent_dim, nb_images):\n",
        "  X_input = np.random.randn(latent_dim * nb_images)\n",
        "  X_input = X_input.reshape(nb_images, latent_dim)\n",
        "  return X_input\n",
        "\n",
        "def generate_fake_samples_for_generator(generator_model, latent_dim, nb_images):\n",
        "  # generation des points\n",
        "  X_input = generate_latent_points (latent_dim,nb_images)\n",
        "  # prediction de la sortie du générateur\n",
        "  X = generator_model.predict(X_input)\n",
        "  # A ce niveau on considère que les images sont fausses\n",
        "  # donc on met 0 comme label.\n",
        "  y = zeros((nb_images, 1))\n",
        "  return X, y\n",
        "\n",
        "def plot_and_save_generatedimages(generated_images, epoch, nb_images=10):\n",
        "\t# Affichage des images\n",
        "\tfor i in range(nb_images * nb_images):\n",
        "\t\tpyplot.subplot(nb_images, nb_images, 1 + i)\n",
        "\t\tpyplot.axis('off')\n",
        "\t\tpyplot.imshow(generated_images[i, :, :, 0], cmap='gray_r')\n",
        "\t# sauvegarde de l'image\n",
        "\tfilename = 'generated_plot_FashionCNN_withGan%03d.png' % (epoch+1)\n",
        "\tpyplot.savefig(filename)\n",
        "\tpyplot.close()\n",
        "\n",
        "\n",
        "\n",
        "def evaluate_model (dataset, epoch, generator_model, discriminator_model, latent_dim, nb_images=100, save_model=True):\n",
        "  # récupération de vraies images pour le discriminateur\n",
        "  X_real, y_real = generate_real_samples(dataset, nb_images)\n",
        "  # Evaluation de l'accuracy pour le discriminateur\n",
        "  _, acc_real = discriminator_model.evaluate(X_real, y_real, verbose=0)\n",
        "\n",
        "  # génération de fausses images pour le générateur et donc le gan\n",
        "  X_fake, y_fake = generate_fake_samples_for_generator(generator_model, latent_dim, nb_images)\n",
        "  # Evaluation du discriminateur avec des fausses images\n",
        "  _, acc_fake = discriminator_model.evaluate(X_fake, y_fake, verbose=0)\n",
        "\n",
        "  print ('Accuracy reélle : %.0f%%, fausse : %.0f%%' % (acc_real*100, acc_fake*100))\n",
        "\n",
        "  plot_and_save_generatedimages(X_fake, epoch)\n",
        "  if save_model==True:\n",
        "    # sauvegarde du generateur pour un autre usage\n",
        "    filename = 'generator_model_FashionMNIST%03d.h5' % (epoch + 1)\n",
        "    generator_model.save(filename)\n",
        "\n",
        "\n"
      ],
      "metadata": {
        "id": "uMpAj9agDePI"
      },
      "execution_count": 16,
      "outputs": []
    },
    {
      "cell_type": "code",
      "source": [
        "# train the generator and discriminator\n",
        "def train(generator_model, discriminator_model, gan_model, dataset, latent_dim, epochs=100, batchsize=256):\n",
        "  # Pour déterminer combien il y aura de batchs analysés à chaque epoch\n",
        "  batches_per_epoch = int(dataset.shape[0] / batchsize)\n",
        "\n",
        "  # pour récupérer le même nombre d'images fausses et vraies\n",
        "  half_batch = int(batchsize / 2)\n",
        "\n",
        "  for i in range(epochs):\n",
        "    # parcours des batches pour chaque pas d'epoch\n",
        "    for j in range(batches_per_epoch):\n",
        "\n",
        "      # PARTIE DISCRIMINATOR\n",
        "      #tirage aléatoire de half_batch images vraies\n",
        "      X_real, y_real = generate_real_samples(dataset, half_batch)\n",
        "      # generation de half_size fausses images\n",
        "      X_fake, y_fake = generate_fake_samples_for_generator(generator_model, latent_dim, half_batch)\n",
        "      # vstack permet de concaténer les vraies et fausses images dans X (resp. dans y)\n",
        "      # on aurait pu utiliser np.concatenate (np.concatenate([X_real, X_fake]))\n",
        "      X, y = vstack((X_real, X_fake)), vstack((y_real, y_fake))\n",
        "\n",
        "      # la ligne suivante permet au discriminateur de mettre à jour ses poids\n",
        "      # attention dans le GAN il ne peut pas aprendre donc il ne peut le faire qu'ici\n",
        "      discriminator_loss,_  = discriminator_model.train_on_batch(X, y)\n",
        "\n",
        "      # PARTIE GENERATOR ET DONC DE L'ENTREE DU GAN\n",
        "      # Création des points comme entrée du générateur\n",
        "      #\n",
        "      X_for_gan = generate_latent_points(latent_dim, batchsize)\n",
        "      # On met un 1 pour les labels des fausses images pour faire croire au discriminateur\n",
        "      # qu'il s'agit de vraies images\n",
        "      y_for_gan = ones((batchsize, 1))\n",
        "\n",
        "      # mise à jour des poids du générateur par propagation de l'esseur\n",
        "      # du discriminateur\n",
        "      gan_loss = gan_model.train_on_batch(X_for_gan, y_for_gan)\n",
        "\t\t\t# Affichage des loss\n",
        "      print('epoch %d - batch %d/%d, discriminator_loss=%.3f, generator_loss=%.3f'%(i+1, j+1, batches_per_epoch, discriminator_loss, gan_loss))\n",
        "\n",
        "    # Toutes les 20 epochs evaluation du modèle et sauvegarde du générateur\n",
        "    if i==1 or i % 20==0:\n",
        "        evaluate_model (dataset, i, generator_model, discriminator_model, latent_dim)\n",
        ""
      ],
      "metadata": {
        "id": "XssqYHYas83D"
      },
      "execution_count": 17,
      "outputs": []
    },
    {
      "cell_type": "code",
      "source": [
        "latent_dim = 100\n",
        "epochs=100\n",
        "batchsize=257\n",
        "# Creation du discriminateur\n",
        "discrimator_model = create_discriminator()\n",
        "# Creation du generateur\n",
        "generator_model = create_generator(latent_dim)\n",
        "# Creation du GAN\n",
        "gan_model = create_gan(generator_model, discriminator_model)\n",
        "# Chargement des données\n",
        "dataset = load_data()\n"
      ],
      "metadata": {
        "id": "4DPeZBLpat6q"
      },
      "execution_count": 18,
      "outputs": []
    },
    {
      "cell_type": "markdown",
      "source": [
        "Il ne reste plus qu'à entraîner le modèle.   \n",
        "\n",
        "**CO2 !!! Remarque IMPORTANTE** Attention l'apprentissage est très long. Si vous voulez le faire il faudra décommenter la cellule suivante pour entraîner le modèle.   \n",
        "Pour éviter de consommer inutilement du CO2, le modèle a été appris (utilisation du GPU sous Colab) et sauvegardé. Il est disponible et utilisé dans les cellules d'après."
      ],
      "metadata": {
        "id": "JQhJVUZeTaHQ"
      }
    },
    {
      "cell_type": "code",
      "source": [
        "# train model\n",
        "#train(generator_model, discriminator_model, gan_model, dataset, latent_dim, epochs,batchsize)"
      ],
      "metadata": {
        "id": "XVgZrQGQTbBH"
      },
      "execution_count": null,
      "outputs": []
    },
    {
      "cell_type": "markdown",
      "source": [
        "Comme annoncé précédemment, il est inutile de lancer le code précédent (Merci pour le CO2). Vous pouvez récupérer un modèle appris (utilisation du GPU sur Colab - aller dans le menu Modifier/Paramètres du notebook et sélectionner GPU). Vous pouvez télécharger le modèle :"
      ],
      "metadata": {
        "id": "oraLqtB14xHB"
      }
    },
    {
      "cell_type": "code",
      "source": [
        "!wget https://www.lirmm.fr/~poncelet/Ressources/generator_model_CNNFashion_100epochs.h5"
      ],
      "metadata": {
        "colab": {
          "base_uri": "https://localhost:8080/",
          "height": 0
        },
        "id": "tD1teYHq5PWb",
        "outputId": "dd2f96dc-7430-4f78-dd61-ae6dd123d892"
      },
      "execution_count": 19,
      "outputs": [
        {
          "output_type": "stream",
          "name": "stdout",
          "text": [
            "--2023-09-07 22:02:21--  https://www.lirmm.fr/~poncelet/Ressources/generator_model_CNNFashion_100epochs.h5\n",
            "Resolving www.lirmm.fr (www.lirmm.fr)... 193.49.104.251\n",
            "Connecting to www.lirmm.fr (www.lirmm.fr)|193.49.104.251|:443... connected.\n",
            "HTTP request sent, awaiting response... 200 OK\n",
            "Length: 4680848 (4.5M) [text/plain]\n",
            "Saving to: ‘generator_model_CNNFashion_100epochs.h5’\n",
            "\n",
            "generator_model_CNN 100%[===================>]   4.46M  4.90MB/s    in 0.9s    \n",
            "\n",
            "2023-09-07 22:02:23 (4.90 MB/s) - ‘generator_model_CNNFashion_100epochs.h5’ saved [4680848/4680848]\n",
            "\n"
          ]
        }
      ]
    },
    {
      "cell_type": "markdown",
      "source": [
        "Voici un exemple de données générées avec le modèle qui a été appris au cours des epochs :     \n",
        "\n",
        "EPOCH 1\n",
        "<IMG SRC=\"http://www.lirmm.fr/~poncelet/Ressources/generated_plot_e001.png\" align=\"center\" >\n",
        "\n",
        "EPOCH 30\n",
        "<IMG SRC=\"http://www.lirmm.fr/~poncelet/Ressources/generated_plot_e030.png\" align=\"center\" >\n",
        "\n",
        "EPOCH 70\n",
        "<IMG SRC=\"http://www.lirmm.fr/~poncelet/Ressources/generated_plot_e070.png\" align=\"center\" >\n",
        "\n",
        "EPOCH 100\n",
        "<IMG SRC=\"http://www.lirmm.fr/~poncelet/Ressources/generated_plot_e100.png\" align=\"center\" >"
      ],
      "metadata": {
        "id": "1ElOB-xIFGpx"
      }
    },
    {
      "cell_type": "markdown",
      "source": [
        "Il suffit alors de charger le modèle appris pour générer des images :    "
      ],
      "metadata": {
        "id": "QRxYMAcs7B4d"
      }
    },
    {
      "cell_type": "code",
      "source": [
        "model = load_model('generator_model_CNNFashion_100epochs.h5')"
      ],
      "metadata": {
        "colab": {
          "base_uri": "https://localhost:8080/",
          "height": 0
        },
        "id": "sQv4-wkU7Jkr",
        "outputId": "e6c8ca4c-e944-4888-ce0f-1befaa7e687c"
      },
      "execution_count": 20,
      "outputs": [
        {
          "output_type": "stream",
          "name": "stderr",
          "text": [
            "WARNING:tensorflow:No training configuration found in the save file, so the model was *not* compiled. Compile it manually.\n"
          ]
        }
      ]
    },
    {
      "cell_type": "markdown",
      "source": [
        "Pour voir comment une image est générée il suffit de générer un vecteur de latent_dim et de le passer dans le modèle pour voir l'image finale associée."
      ],
      "metadata": {
        "id": "T1261GxH7vbX"
      }
    },
    {
      "cell_type": "code",
      "source": [
        "# Création d'un vecteur aléatoire de taille latent_dim\n",
        "latent_points = generate_latent_points(100, 1)"
      ],
      "metadata": {
        "id": "hYSbs58S7--a"
      },
      "execution_count": 21,
      "outputs": []
    },
    {
      "cell_type": "markdown",
      "source": [
        "Il suffit de prédire l'application du modèle :     "
      ],
      "metadata": {
        "id": "S81vsnHN8aX9"
      }
    },
    {
      "cell_type": "code",
      "source": [
        "generated_image = model.predict(latent_points)"
      ],
      "metadata": {
        "id": "VEq4iFDR8Wxr",
        "colab": {
          "base_uri": "https://localhost:8080/",
          "height": 0
        },
        "outputId": "06cd1621-6e33-4e2f-fcda-4fc4c02581b6"
      },
      "execution_count": 22,
      "outputs": [
        {
          "output_type": "stream",
          "name": "stdout",
          "text": [
            "1/1 [==============================] - 0s 126ms/step\n"
          ]
        }
      ]
    },
    {
      "cell_type": "markdown",
      "source": [
        "Affichage de l'image prédite, i.e. de l'image générée :"
      ],
      "metadata": {
        "id": "85s7lqhZ8mTP"
      }
    },
    {
      "cell_type": "code",
      "source": [
        "plt.imshow (generated_image[0, :, :, 0], cmap='gray')"
      ],
      "metadata": {
        "colab": {
          "base_uri": "https://localhost:8080/",
          "height": 448
        },
        "id": "93fxCTQe8pLD",
        "outputId": "0bbb75f5-dbe9-4f96-fb2b-a7f74996eb1d"
      },
      "execution_count": 23,
      "outputs": [
        {
          "output_type": "execute_result",
          "data": {
            "text/plain": [
              "<matplotlib.image.AxesImage at 0x7dbe98ed7af0>"
            ]
          },
          "metadata": {},
          "execution_count": 23
        },
        {
          "output_type": "display_data",
          "data": {
            "text/plain": [
              "<Figure size 640x480 with 1 Axes>"
            ],
            "image/png": "[encoded data removed]"
          },
          "metadata": {}
        }
      ]
    }
  ]
}